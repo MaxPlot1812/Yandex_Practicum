{
 "cells": [
  {
   "cell_type": "markdown",
   "metadata": {},
   "source": [
    "# Выбор локации для скважины"
   ]
  },
  {
   "cell_type": "markdown",
   "metadata": {},
   "source": [
    "Допустим, вы работаете в добывающей компании «ГлавРосГосНефть». Нужно решить, где бурить новую скважину.\n",
    "\n",
    "Вам предоставлены пробы нефти в трёх регионах: в каждом 10 000 месторождений, где измерили качество нефти и объём её запасов. Постройте модель машинного обучения, которая поможет определить регион, где добыча принесёт наибольшую прибыль. Проанализируйте возможную прибыль и риски техникой *Bootstrap.*\n",
    "\n",
    "Шаги для выбора локации:\n",
    "\n",
    "- В избранном регионе ищут месторождения, для каждого определяют значения признаков;\n",
    "- Строят модель и оценивают объём запасов;\n",
    "- Выбирают месторождения с самым высокими оценками значений. Количество месторождений зависит от бюджета компании и стоимости разработки одной скважины;\n",
    "- Прибыль равна суммарной прибыли отобранных месторождений."
   ]
  },
  {
   "cell_type": "markdown",
   "metadata": {},
   "source": [
    "# Превью"
   ]
  },
  {
   "cell_type": "markdown",
   "metadata": {},
   "source": [
    "В данном проекте предстоит оценить 3 региона с месторождениями нефти и на основе полученных информации с помощью модели линейной регрессии предложить наиболее преспективный из них с точки зрения прибыли. Для каждого региона данные представлены в отдельной таблице. Названия полученных характеристик не известны, но это и не потребуется, достаточно будет числовых значений. Для начала рассмотрим представленные датасеты и осуществим визуальный анализ. Возможно не все данные нам потребуются для решения поставленной задачи. Разведоваться и осваиваться будут не все месторождения района, а лишь 5% и 2% лучших из них от общего количества. Произведем расчет предполагаемой прибыли для каждого региона на основании полученных предсказаний и выбранных месторождений. В целях более вероятного получения прибыли для поставленных условий воспользуемся техникой Bootstrap и оценим риски.   "
   ]
  },
  {
   "cell_type": "markdown",
   "metadata": {},
   "source": [
    "## Загрузка и подготовка данных"
   ]
  },
  {
   "cell_type": "code",
   "execution_count": 1,
   "metadata": {},
   "outputs": [],
   "source": [
    "import pandas as pd\n",
    "from sklearn.model_selection import train_test_split\n",
    "from sklearn.preprocessing import StandardScaler\n",
    "from sklearn.linear_model import LinearRegression\n",
    "from sklearn.preprocessing import OrdinalEncoder\n",
    "from sklearn.utils import shuffle\n",
    "from scipy import stats as st\n",
    "import numpy as np\n",
    "from sklearn.model_selection import cross_val_score\n",
    "from sklearn.metrics import mean_squared_error\n",
    "from numpy.random import RandomState\n",
    "import matplotlib.pyplot as plt"
   ]
  },
  {
   "cell_type": "code",
   "execution_count": 2,
   "metadata": {},
   "outputs": [
    {
     "name": "stdout",
     "output_type": "stream",
     "text": [
      "<class 'pandas.core.frame.DataFrame'>\n",
      "RangeIndex: 100000 entries, 0 to 99999\n",
      "Data columns (total 5 columns):\n",
      "id         100000 non-null object\n",
      "f0         100000 non-null float64\n",
      "f1         100000 non-null float64\n",
      "f2         100000 non-null float64\n",
      "product    100000 non-null float64\n",
      "dtypes: float64(4), object(1)\n",
      "memory usage: 3.8+ MB\n"
     ]
    },
    {
     "data": {
      "text/html": [
       "<div>\n",
       "<style scoped>\n",
       "    .dataframe tbody tr th:only-of-type {\n",
       "        vertical-align: middle;\n",
       "    }\n",
       "\n",
       "    .dataframe tbody tr th {\n",
       "        vertical-align: top;\n",
       "    }\n",
       "\n",
       "    .dataframe thead th {\n",
       "        text-align: right;\n",
       "    }\n",
       "</style>\n",
       "<table border=\"1\" class=\"dataframe\">\n",
       "  <thead>\n",
       "    <tr style=\"text-align: right;\">\n",
       "      <th></th>\n",
       "      <th>f0</th>\n",
       "      <th>f1</th>\n",
       "      <th>f2</th>\n",
       "      <th>product</th>\n",
       "    </tr>\n",
       "  </thead>\n",
       "  <tbody>\n",
       "    <tr>\n",
       "      <td>0</td>\n",
       "      <td>0.705745</td>\n",
       "      <td>-0.497823</td>\n",
       "      <td>1.221170</td>\n",
       "      <td>105.280062</td>\n",
       "    </tr>\n",
       "    <tr>\n",
       "      <td>1</td>\n",
       "      <td>1.334711</td>\n",
       "      <td>-0.340164</td>\n",
       "      <td>4.365080</td>\n",
       "      <td>73.037750</td>\n",
       "    </tr>\n",
       "    <tr>\n",
       "      <td>2</td>\n",
       "      <td>1.022732</td>\n",
       "      <td>0.151990</td>\n",
       "      <td>1.419926</td>\n",
       "      <td>85.265647</td>\n",
       "    </tr>\n",
       "    <tr>\n",
       "      <td>3</td>\n",
       "      <td>-0.032172</td>\n",
       "      <td>0.139033</td>\n",
       "      <td>2.978566</td>\n",
       "      <td>168.620776</td>\n",
       "    </tr>\n",
       "    <tr>\n",
       "      <td>4</td>\n",
       "      <td>1.988431</td>\n",
       "      <td>0.155413</td>\n",
       "      <td>4.751769</td>\n",
       "      <td>154.036647</td>\n",
       "    </tr>\n",
       "  </tbody>\n",
       "</table>\n",
       "</div>"
      ],
      "text/plain": [
       "         f0        f1        f2     product\n",
       "0  0.705745 -0.497823  1.221170  105.280062\n",
       "1  1.334711 -0.340164  4.365080   73.037750\n",
       "2  1.022732  0.151990  1.419926   85.265647\n",
       "3 -0.032172  0.139033  2.978566  168.620776\n",
       "4  1.988431  0.155413  4.751769  154.036647"
      ]
     },
     "metadata": {},
     "output_type": "display_data"
    },
    {
     "data": {
      "image/png": "[encoded data removed]",
      "text/plain": [
       "<Figure size 432x288 with 1 Axes>"
      ]
     },
     "metadata": {
      "needs_background": "light"
     },
     "output_type": "display_data"
    },
    {
     "name": "stdout",
     "output_type": "stream",
     "text": [
      "count    100000.000000\n",
      "mean         92.500000\n",
      "std          44.288691\n",
      "min           0.000000\n",
      "25%          56.497507\n",
      "50%          91.849972\n",
      "75%         128.564089\n",
      "max         185.364347\n",
      "Name: product, dtype: float64\n",
      "<class 'pandas.core.frame.DataFrame'>\n",
      "RangeIndex: 100000 entries, 0 to 99999\n",
      "Data columns (total 5 columns):\n",
      "id         100000 non-null object\n",
      "f0         100000 non-null float64\n",
      "f1         100000 non-null float64\n",
      "f2         100000 non-null float64\n",
      "product    100000 non-null float64\n",
      "dtypes: float64(4), object(1)\n",
      "memory usage: 3.8+ MB\n"
     ]
    },
    {
     "data": {
      "text/html": [
       "<div>\n",
       "<style scoped>\n",
       "    .dataframe tbody tr th:only-of-type {\n",
       "        vertical-align: middle;\n",
       "    }\n",
       "\n",
       "    .dataframe tbody tr th {\n",
       "        vertical-align: top;\n",
       "    }\n",
       "\n",
       "    .dataframe thead th {\n",
       "        text-align: right;\n",
       "    }\n",
       "</style>\n",
       "<table border=\"1\" class=\"dataframe\">\n",
       "  <thead>\n",
       "    <tr style=\"text-align: right;\">\n",
       "      <th></th>\n",
       "      <th>f0</th>\n",
       "      <th>f1</th>\n",
       "      <th>f2</th>\n",
       "      <th>product</th>\n",
       "    </tr>\n",
       "  </thead>\n",
       "  <tbody>\n",
       "    <tr>\n",
       "      <td>0</td>\n",
       "      <td>-15.001348</td>\n",
       "      <td>-8.276000</td>\n",
       "      <td>-0.005876</td>\n",
       "      <td>3.179103</td>\n",
       "    </tr>\n",
       "    <tr>\n",
       "      <td>1</td>\n",
       "      <td>14.272088</td>\n",
       "      <td>-3.475083</td>\n",
       "      <td>0.999183</td>\n",
       "      <td>26.953261</td>\n",
       "    </tr>\n",
       "    <tr>\n",
       "      <td>2</td>\n",
       "      <td>6.263187</td>\n",
       "      <td>-5.948386</td>\n",
       "      <td>5.001160</td>\n",
       "      <td>134.766305</td>\n",
       "    </tr>\n",
       "    <tr>\n",
       "      <td>3</td>\n",
       "      <td>-13.081196</td>\n",
       "      <td>-11.506057</td>\n",
       "      <td>4.999415</td>\n",
       "      <td>137.945408</td>\n",
       "    </tr>\n",
       "    <tr>\n",
       "      <td>4</td>\n",
       "      <td>12.702195</td>\n",
       "      <td>-8.147433</td>\n",
       "      <td>5.004363</td>\n",
       "      <td>134.766305</td>\n",
       "    </tr>\n",
       "  </tbody>\n",
       "</table>\n",
       "</div>"
      ],
      "text/plain": [
       "          f0         f1        f2     product\n",
       "0 -15.001348  -8.276000 -0.005876    3.179103\n",
       "1  14.272088  -3.475083  0.999183   26.953261\n",
       "2   6.263187  -5.948386  5.001160  134.766305\n",
       "3 -13.081196 -11.506057  4.999415  137.945408\n",
       "4  12.702195  -8.147433  5.004363  134.766305"
      ]
     },
     "metadata": {},
     "output_type": "display_data"
    },
    {
     "data": {
      "image/png": "[encoded data removed]",
      "text/plain": [
       "<Figure size 432x288 with 1 Axes>"
      ]
     },
     "metadata": {
      "needs_background": "light"
     },
     "output_type": "display_data"
    },
    {
     "name": "stdout",
     "output_type": "stream",
     "text": [
      "count    100000.000000\n",
      "mean         68.825000\n",
      "std          45.944423\n",
      "min           0.000000\n",
      "25%          26.953261\n",
      "50%          57.085625\n",
      "75%         107.813044\n",
      "max         137.945408\n",
      "Name: product, dtype: float64\n",
      "<class 'pandas.core.frame.DataFrame'>\n",
      "RangeIndex: 100000 entries, 0 to 99999\n",
      "Data columns (total 5 columns):\n",
      "id         100000 non-null object\n",
      "f0         100000 non-null float64\n",
      "f1         100000 non-null float64\n",
      "f2         100000 non-null float64\n",
      "product    100000 non-null float64\n",
      "dtypes: float64(4), object(1)\n",
      "memory usage: 3.8+ MB\n"
     ]
    },
    {
     "data": {
      "text/html": [
       "<div>\n",
       "<style scoped>\n",
       "    .dataframe tbody tr th:only-of-type {\n",
       "        vertical-align: middle;\n",
       "    }\n",
       "\n",
       "    .dataframe tbody tr th {\n",
       "        vertical-align: top;\n",
       "    }\n",
       "\n",
       "    .dataframe thead th {\n",
       "        text-align: right;\n",
       "    }\n",
       "</style>\n",
       "<table border=\"1\" class=\"dataframe\">\n",
       "  <thead>\n",
       "    <tr style=\"text-align: right;\">\n",
       "      <th></th>\n",
       "      <th>f0</th>\n",
       "      <th>f1</th>\n",
       "      <th>f2</th>\n",
       "      <th>product</th>\n",
       "    </tr>\n",
       "  </thead>\n",
       "  <tbody>\n",
       "    <tr>\n",
       "      <td>0</td>\n",
       "      <td>-1.146987</td>\n",
       "      <td>0.963328</td>\n",
       "      <td>-0.828965</td>\n",
       "      <td>27.758673</td>\n",
       "    </tr>\n",
       "    <tr>\n",
       "      <td>1</td>\n",
       "      <td>0.262778</td>\n",
       "      <td>0.269839</td>\n",
       "      <td>-2.530187</td>\n",
       "      <td>56.069697</td>\n",
       "    </tr>\n",
       "    <tr>\n",
       "      <td>2</td>\n",
       "      <td>0.194587</td>\n",
       "      <td>0.289035</td>\n",
       "      <td>-5.586433</td>\n",
       "      <td>62.871910</td>\n",
       "    </tr>\n",
       "    <tr>\n",
       "      <td>3</td>\n",
       "      <td>2.236060</td>\n",
       "      <td>-0.553760</td>\n",
       "      <td>0.930038</td>\n",
       "      <td>114.572842</td>\n",
       "    </tr>\n",
       "    <tr>\n",
       "      <td>4</td>\n",
       "      <td>-0.515993</td>\n",
       "      <td>1.716266</td>\n",
       "      <td>5.899011</td>\n",
       "      <td>149.600746</td>\n",
       "    </tr>\n",
       "  </tbody>\n",
       "</table>\n",
       "</div>"
      ],
      "text/plain": [
       "         f0        f1        f2     product\n",
       "0 -1.146987  0.963328 -0.828965   27.758673\n",
       "1  0.262778  0.269839 -2.530187   56.069697\n",
       "2  0.194587  0.289035 -5.586433   62.871910\n",
       "3  2.236060 -0.553760  0.930038  114.572842\n",
       "4 -0.515993  1.716266  5.899011  149.600746"
      ]
     },
     "metadata": {},
     "output_type": "display_data"
    },
    {
     "data": {
      "image/png": "[encoded data removed]",
      "text/plain": [
       "<Figure size 432x288 with 1 Axes>"
      ]
     },
     "metadata": {
      "needs_background": "light"
     },
     "output_type": "display_data"
    },
    {
     "name": "stdout",
     "output_type": "stream",
     "text": [
      "count    100000.000000\n",
      "mean         95.000000\n",
      "std          44.749921\n",
      "min           0.000000\n",
      "25%          59.450441\n",
      "50%          94.925613\n",
      "75%         130.595027\n",
      "max         190.029838\n",
      "Name: product, dtype: float64\n"
     ]
    }
   ],
   "source": [
    "oilfield_1 = pd.read_csv('/datasets/geo_data_0.csv')\n",
    "oilfield_2 = pd.read_csv('/datasets/geo_data_1.csv')\n",
    "oilfield_3 = pd.read_csv('/datasets/geo_data_2.csv')\n",
    "fields = [oilfield_1, oilfield_2, oilfield_3]\n",
    "fields_new = []\n",
    "for i in fields:\n",
    "    i.info()\n",
    "    i = i.drop('id', axis = 1)\n",
    "    display(i.head())\n",
    "    fields_new.append(i)\n",
    "    plt.hist(i['product'], bins = 100)\n",
    "    plt.show()\n",
    "    print(i['product'].describe())"
   ]
  },
  {
   "cell_type": "markdown",
   "metadata": {},
   "source": [
    "В рассматриветмых данных предобработка практически не понадобилась. Данные количественные и отсутствующих значений нет. Пришлось удалить лишь 1 столбец \"id\" с уникальными идентификаторами месторождений, для обучения он не потребуется, да и в дальнейшем не окажет никакого влияния на значения величин. Для связи значения целевого признака и исходных параметров используем индексы датасетов. В целях исключения повторения кода воспользовался циклом)Также проведен анализ распределения объемов нефти в скважинах по регионам и их характеристик. Для 2 датасета наблюдается не самая характерная картина. как будто кто то копал одинаковые скважины и заливал туда строго определенный объем нефти. Не похоже на природные процессы."
   ]
  },
  {
   "cell_type": "markdown",
   "metadata": {},
   "source": [
    "## Обучение и проверка модели"
   ]
  },
  {
   "cell_type": "code",
   "execution_count": 3,
   "metadata": {},
   "outputs": [
    {
     "data": {
      "text/html": [
       "<div>\n",
       "<style scoped>\n",
       "    .dataframe tbody tr th:only-of-type {\n",
       "        vertical-align: middle;\n",
       "    }\n",
       "\n",
       "    .dataframe tbody tr th {\n",
       "        vertical-align: top;\n",
       "    }\n",
       "\n",
       "    .dataframe thead th {\n",
       "        text-align: right;\n",
       "    }\n",
       "</style>\n",
       "<table border=\"1\" class=\"dataframe\">\n",
       "  <thead>\n",
       "    <tr style=\"text-align: right;\">\n",
       "      <th></th>\n",
       "      <th>fields_name</th>\n",
       "      <th>mean</th>\n",
       "      <th>rmse</th>\n",
       "    </tr>\n",
       "  </thead>\n",
       "  <tbody>\n",
       "    <tr>\n",
       "      <td>0</td>\n",
       "      <td>oilfield_1</td>\n",
       "      <td>92.290781</td>\n",
       "      <td>37.949371</td>\n",
       "    </tr>\n",
       "    <tr>\n",
       "      <td>1</td>\n",
       "      <td>oilfield_2</td>\n",
       "      <td>68.714059</td>\n",
       "      <td>0.888752</td>\n",
       "    </tr>\n",
       "    <tr>\n",
       "      <td>2</td>\n",
       "      <td>oilfield_3</td>\n",
       "      <td>95.101776</td>\n",
       "      <td>39.947731</td>\n",
       "    </tr>\n",
       "  </tbody>\n",
       "</table>\n",
       "</div>"
      ],
      "text/plain": [
       "  fields_name       mean       rmse\n",
       "0  oilfield_1  92.290781  37.949371\n",
       "1  oilfield_2  68.714059   0.888752\n",
       "2  oilfield_3  95.101776  39.947731"
      ]
     },
     "metadata": {},
     "output_type": "display_data"
    }
   ],
   "source": [
    "fields_name = ['oilfield_1', 'oilfield_2', 'oilfield_3']\n",
    "list_m = []\n",
    "list_metrics = []\n",
    "c=0\n",
    "for i in fields_new:\n",
    "    target = i['product']\n",
    "    features = i.drop('product', axis = 1)\n",
    "    feature_train, feature_valid, target_train, target_valid = train_test_split(features, target,\n",
    "                                                                                test_size = 0.25, random_state = 111) \n",
    "    model = LinearRegression(fit_intercept = True, normalize = True)\n",
    "    model.fit(feature_train, target_train)\n",
    "    predict = model.predict(feature_valid)\n",
    "    list_m.append(fields_name[c])\n",
    "    list_m.append(predict.mean())\n",
    "    list_m.append(mean_squared_error(target_valid, predict)**0.5)\n",
    "    list_metrics.append(list_m)\n",
    "    list_m = []\n",
    "    c += 1\n",
    "fields_metrics = pd.DataFrame(data = list_metrics, columns = ['fields_name', 'mean', 'rmse'])    \n",
    "display(fields_metrics)"
   ]
  },
  {
   "cell_type": "markdown",
   "metadata": {},
   "source": [
    "В этом пункте, как и в предыдущем применен цикл для меньшего написания однотипного кода. В результате для каждого датасета таблица разделена на целевой и остальные признаки. Далее разделили их на тренировочные и валидационные выборки в соотношении 3:1, обучили и проверили на них модель, расчитали параметры среднего предсказанного значения объемов сырья для каждого месторождения, а также величину среднеквадратической ошибки. Данные свели в таблицу. Оказалось, что 1 и 3 регионы похожи по своим параметрам и имеют значительный средний запас сырья на одно месторождение. Однако данные в них не так предсказуемы, как этого хотелось и разброс значений составляем больше 40% для каждого из них. 2 регион серьезно уступает по средним запасам, но там где не копни, получишь примерно одинаковое количество нефти отколонение в предсказании составляем меньше 2%. Думаю имеет смысл рискнуть и попоробовать предсказать, в каком из двух более богатых регионов вероятнее найти 200 месторождений с наибольшими запасами нефти.  "
   ]
  },
  {
   "cell_type": "markdown",
   "metadata": {},
   "source": [
    "## Подготовка к расчёту прибыли"
   ]
  },
  {
   "cell_type": "code",
   "execution_count": 4,
   "metadata": {},
   "outputs": [
    {
     "name": "stdout",
     "output_type": "stream",
     "text": [
      "Минимальный объем безубыточной прибыли 111.11111111111111\n"
     ]
    }
   ],
   "source": [
    "budget = 10**10\n",
    "price_bar = 4.5*10**5\n",
    "exploration = 500\n",
    "exploration_best = 200\n",
    "profit_volume_1 = budget/(price_bar*exploration_best) \n",
    "print('Минимальный объем безубыточной прибыли', profit_volume_1)\n"
   ]
  },
  {
   "cell_type": "markdown",
   "metadata": {},
   "source": [
    "Все характеристики, которые могут понадобиться для расчетов сохранены. Произведен расчет безубыточности месторождения в баррелях. Данная величина оказалась больше среденего для каждого из регионов, а для 2 на целых 60%. Однако для данного региона наблюдается большой разброс объемов нефти в скважинах как в отрицательную так и в положитльную сторону от среднего значения. В 1 и 3 регионе придется наиболее оптимально подбирать месторождения для добывающих скважин. Гарантии прибыли нет и в этих регионах, и мы лишь сможем оценить вероятность благополучного исхода. В каком из регионов она будет выше, в том и будем добывать нефть. "
   ]
  },
  {
   "cell_type": "markdown",
   "metadata": {},
   "source": [
    "## Расчёт прибыли и рисков "
   ]
  },
  {
   "cell_type": "markdown",
   "metadata": {},
   "source": [
    "### Расчет прибыли"
   ]
  },
  {
   "cell_type": "code",
   "execution_count": 5,
   "metadata": {},
   "outputs": [],
   "source": [
    "def profit_count(target, probabilities, count):\n",
    "    predict_product_sorted = probabilities.sort_values(ascending=False)\n",
    "    product_selected = target[predict_product_sorted.index][:count]\n",
    "    profit_count_well = price_bar * product_selected.sum() - budget\n",
    "    return profit_count_well\n"
   ]
  },
  {
   "cell_type": "markdown",
   "metadata": {},
   "source": [
    "### Процедура Bootstrap и оценка рисков"
   ]
  },
  {
   "cell_type": "code",
   "execution_count": 6,
   "metadata": {},
   "outputs": [
    {
     "name": "stdout",
     "output_type": "stream",
     "text": [
      "==================== Показатели региона 1 ===========================\n",
      "Для данного региона средняя прибыль равна 426272370.77\n",
      "Для данного региона 95% доверительный интервал находится в диапазоне значений от -126790034.59 до 983427683.72\n",
      "Риски убытков для данного региона 6.800000000000001%\n",
      "\n",
      "==================== Показатели региона 2 ===========================\n",
      "Для данного региона средняя прибыль равна 509144419.15\n",
      "Для данного региона 95% доверительный интервал находится в диапазоне значений от 103030263.74 до 948591900.54\n",
      "Риски убытков для данного региона 1.2%\n",
      "\n",
      "==================== Показатели региона 3 ===========================\n",
      "Для данного региона средняя прибыль равна 345891112.84\n",
      "Для данного региона 95% доверительный интервал находится в диапазоне значений от -188658819.97 до 875761830.88\n",
      "Риски убытков для данного региона 9.8%\n",
      "\n"
     ]
    }
   ],
   "source": [
    "state = RandomState(12345)\n",
    "   \n",
    "ki = 1\n",
    "for k in fields_new:\n",
    "    target = k['product']\n",
    "    features = k.drop('product', axis = 1)\n",
    "    feature_train, feature_valid, target_train, target_valid = train_test_split(features, target,\n",
    "                                                                                test_size = 0.25, random_state = state) \n",
    "    model = LinearRegression(fit_intercept = True, normalize = True)\n",
    "    model.fit(feature_train, target_train)\n",
    "    predict = model.predict(feature_valid)\n",
    "    target_valid_predict = pd.DataFrame(data=dict(target_valid = target_valid))\n",
    "    target_valid_predict['predict'] = predict\n",
    "    predict = target_valid_predict['predict']\n",
    "        \n",
    "    profit_values = []\n",
    "    for i in range(1000):\n",
    "        sample_500 = target_valid.sample(n = 500, random_state = state, replace = True) \n",
    "        sample_500_predict = predict[sample_500.index]\n",
    "        profit_values.append(profit_count(sample_500, sample_500_predict, 200))\n",
    "    \n",
    "    profit_values = pd.Series(profit_values)\n",
    "    probability_95_up =  profit_values.quantile(0.975)\n",
    "    probability_95_low =  profit_values.quantile(0.025)\n",
    "    risk =(profit_values < 0).mean()*100\n",
    "    #risk = len(list(filter(lambda x: x - budget < 0, income_values)))*100/len(income_values)\n",
    "    \n",
    "    mean_profit = profit_values.mean()\n",
    "    print(\"==================== Показатели региона\", ki, \"===========================\")\n",
    "    print(\"Для данного региона средняя прибыль равна\", mean_profit.round(2))\n",
    "    print(\"Для данного региона 95% доверительный интервал находится в диапазоне значений от\",\n",
    "          probability_95_low.round(2), \"до\", probability_95_up.round(2))\n",
    "    print(\"Риски убытков для данного региона \", risk, '%\\r\\n', sep = '')\n",
    "    ki += 1 "
   ]
  },
  {
   "cell_type": "markdown",
   "metadata": {},
   "source": [
    "В ходе анализа оценки прибыли и рисков проведен расчет данных для контрольной выборки, которую формировали следующим образом: \n",
    "1. Случайно выбрираем из валидационной выборки 500 месторождений. \n",
    "2. Выбираем реальные значения запасов 200 из них с наибольшими предсказаными объемами нефти.\n",
    "3. По формуле производим расчет прибыли с учетом данных из пункта 3. \n",
    "\n",
    "Оказалось, что 2 регион является наиболее прибыльным, регион 1 также приности значительный доход от вложений, а третий не такой доходный и приносит на 80 млн в среднем меньше прибыли, чем регион 1, и на 164 - чем регион 2. Оценил регионы используя технику Bootstrap. Выяснил, что самым рискованным с точни зрения получения прибыли является 3 регион и ее можно получить лишь с вероятностью чуть более 90%. При этом средняя выручка при проведении эксперемента с 1000 выборок получилась самой низкой. Наименее рискованным оказался 2 регион со странно распределенными по объему скважинами, всего 1.2%, а средняя прибыль с него наибольшая (509 млн). Регион 1 относительно 3 региона лучше по всем показателям, а по сравнению с регионом 2  хуже и по риску 6.8%, и по средней доходности (426 млн). На основе получившихся данных и условия задачи (риск региона должен быть менее 2,5%) предлагаю в качестве региона, где добыча принесёт наибольшую прибыль выбрать регион 2. "
   ]
  },
  {
   "cell_type": "markdown",
   "metadata": {},
   "source": [
    "## Вывод по работе"
   ]
  },
  {
   "cell_type": "markdown",
   "metadata": {},
   "source": [
    "В данном проекте оценивал 3 региона с месторождениями нефти и на основе полученной информации с помощью модели линейной регрессии предлагал наиболее преспективный из них с точки зрения получения прибыли. Для датасета каждого региона предварительно произвел визуальный анализ, оценил обобщенные характеристики для целевого признака. Далее разделил таблицы на наборы данных с признаками и целевым признаком. Для каждого определил обучающую и валидационную выборку. Произвел обучение модели линейной регрессии и расчитал средний запас предсказанного сырья и RMSE модели. Оценил выборки с точки зрения полученных значений. Оказалось, что наиболее высокими средними запасами обладают регионы 3 и 1, а регион 2 значительно уступает им. В целях более вероятного получения прибыли для поставленных условий воспользовался техникой Bootstrap и оценил риски. По результатам применения этой процедуры самым рискованным регионом с наименьшей средней прибылью оказался регион 3, а в качестве наиболее целесообразного для разработки - регион 2 с показателями рисков 1.2% и средней прибылью освоения более 509 млн.    "
   ]
  },
  {
   "cell_type": "markdown",
   "metadata": {},
   "source": [
    "## Чек-лист готовности проекта"
   ]
  },
  {
   "cell_type": "markdown",
   "metadata": {},
   "source": [
    "Поставьте 'x' в выполненных пунктах. Далее нажмите Shift+Enter."
   ]
  },
  {
   "cell_type": "markdown",
   "metadata": {},
   "source": [
    "- [x]  Jupyter Notebook открыт\n",
    "- [x]  Весь код выполняется без ошибок\n",
    "- [x]  Ячейки с кодом расположены в порядке исполнения\n",
    "- [x]  Выполнен шаг 1: данные подготовлены\n",
    "- [x]  Выполнен шаг 2: модели обучены и проверены\n",
    "    - [x]  Данные корректно разбиты на обучающую и валидационную выборки\n",
    "    - [x]  Модели обучены, предсказания сделаны\n",
    "    - [x]  Предсказания и правильные ответы на валидационной выборке сохранены\n",
    "    - [x]  На экране напечатаны результаты\n",
    "    - [x]  Сделаны выводы\n",
    "- [x]  Выполнен шаг 3: проведена подготовка к расчёту прибыли\n",
    "    - [x]  Для всех ключевых значений созданы константы Python\n",
    "    - [x]  Посчитано минимальное среднее количество продукта в месторождениях региона, достаточное для разработки\n",
    "    - [x]  По предыдущему пункту сделаны выводы\n",
    "    - [x]  Написана функция расчёта прибыли\n",
    "- [x]  Выполнен шаг 4: посчитаны риски и прибыль\n",
    "    - [x]  Проведена процедура *Bootstrap*\n",
    "    - [x]  Все параметры бутстрепа соответствуют условию\n",
    "    - [x]  Найдены все нужные величины\n",
    "    - [x]  Предложен регион для разработки месторождения\n",
    "    - [x]  Выбор региона обоснован"
   ]
  }
 ],
 "metadata": {
  "kernelspec": {
   "display_name": "Python 3",
   "language": "python",
   "name": "python3"
  },
  "language_info": {
   "codemirror_mode": {
    "name": "ipython",
    "version": 3
   },
   "file_extension": ".py",
   "mimetype": "text/x-python",
   "name": "python",
   "nbconvert_exporter": "python",
   "pygments_lexer": "ipython3",
   "version": "3.8.3"
  },
  "toc": {
   "base_numbering": 1,
   "nav_menu": {},
   "number_sections": true,
   "sideBar": true,
   "skip_h1_title": true,
   "title_cell": "Table of Contents",
   "title_sidebar": "Contents",
   "toc_cell": false,
   "toc_position": {},
   "toc_section_display": true,
   "toc_window_display": false
  }
 },
 "nbformat": 4,
 "nbformat_minor": 2
}
