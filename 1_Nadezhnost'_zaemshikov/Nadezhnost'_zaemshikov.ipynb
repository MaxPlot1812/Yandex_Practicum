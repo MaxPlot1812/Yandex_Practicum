{
 "cells": [
  {
   "cell_type": "markdown",
   "metadata": {},
   "source": [
    "# Исследование надёжности заёмщиков"
   ]
  },
  {
   "cell_type": "markdown",
   "metadata": {},
   "source": [
    "Заказчик — кредитный отдел банка. Нужно разобраться, влияет ли семейное положение и количество детей клиента на факт погашения кредита в срок. Входные данные от банка — статистика о платёжеспособности клиентов.\n",
    "\n",
    "Результаты исследования будут учтены при построении модели **кредитного скоринга** — специальной системы, которая оценивает способность потенциального заёмщика вернуть кредит банку."
   ]
  },
  {
   "cell_type": "markdown",
   "metadata": {},
   "source": [
    "### Шаг 1. Откройте файл с данными и изучите общую информацию. "
   ]
  },
  {
   "cell_type": "code",
   "execution_count": 1,
   "metadata": {},
   "outputs": [
    {
     "name": "stdout",
     "output_type": "stream",
     "text": [
      "<class 'pandas.core.frame.DataFrame'>\n",
      "RangeIndex: 21525 entries, 0 to 21524\n",
      "Data columns (total 12 columns):\n",
      "children            21525 non-null int64\n",
      "days_employed       19351 non-null float64\n",
      "dob_years           21525 non-null int64\n",
      "education           21525 non-null object\n",
      "education_id        21525 non-null int64\n",
      "family_status       21525 non-null object\n",
      "family_status_id    21525 non-null int64\n",
      "gender              21525 non-null object\n",
      "income_type         21525 non-null object\n",
      "debt                21525 non-null int64\n",
      "total_income        19351 non-null float64\n",
      "purpose             21525 non-null object\n",
      "dtypes: float64(2), int64(5), object(5)\n",
      "memory usage: 2.0+ MB\n"
     ]
    }
   ],
   "source": [
    "import pandas as pd\n",
    "import math\n",
    "from collections import Counter\n",
    "from pymystem3 import Mystem\n",
    "m = Mystem()\n",
    "df = pd.read_csv('/datasets/data.csv')\n",
    "df.info()"
   ]
  },
  {
   "cell_type": "markdown",
   "metadata": {},
   "source": [
    "### Вывод"
   ]
  },
  {
   "cell_type": "markdown",
   "metadata": {},
   "source": [
    "В таблице представлено 12 столбцов, из них 7 с числовыми значениями, а 5 представляют собой строки. Среди числовых даннных следующие поля: 'children', 'days_employed', 'dob_years', 'education_id', 'family_status_id', 'debt', 'total_income'. К строковому типу относятся столбцы: 'education', 'family_status', 'gender','income_type', 'purpose'.Типы данных в столбах в целом соответствуют значениям (кроме столбцов 'days_employed' и 'total_income'), пропущенные значения присутствуют в двух тех же столбцах и их одинаковое количество."
   ]
  },
  {
   "cell_type": "markdown",
   "metadata": {},
   "source": [
    "### Шаг 2. Предобработка данных"
   ]
  },
  {
   "cell_type": "markdown",
   "metadata": {},
   "source": [
    "### Обработка пропусков"
   ]
  },
  {
   "cell_type": "code",
   "execution_count": 2,
   "metadata": {
    "scrolled": true
   },
   "outputs": [
    {
     "data": {
      "text/html": [
       "<div>\n",
       "<style scoped>\n",
       "    .dataframe tbody tr th:only-of-type {\n",
       "        vertical-align: middle;\n",
       "    }\n",
       "\n",
       "    .dataframe tbody tr th {\n",
       "        vertical-align: top;\n",
       "    }\n",
       "\n",
       "    .dataframe thead th {\n",
       "        text-align: right;\n",
       "    }\n",
       "</style>\n",
       "<table border=\"1\" class=\"dataframe\">\n",
       "  <thead>\n",
       "    <tr style=\"text-align: right;\">\n",
       "      <th></th>\n",
       "      <th>children</th>\n",
       "      <th>days_employed</th>\n",
       "      <th>dob_years</th>\n",
       "      <th>education</th>\n",
       "      <th>education_id</th>\n",
       "      <th>family_status</th>\n",
       "      <th>family_status_id</th>\n",
       "      <th>gender</th>\n",
       "      <th>income_type</th>\n",
       "      <th>debt</th>\n",
       "      <th>total_income</th>\n",
       "      <th>purpose</th>\n",
       "    </tr>\n",
       "  </thead>\n",
       "  <tbody>\n",
       "    <tr>\n",
       "      <td>0</td>\n",
       "      <td>1</td>\n",
       "      <td>8437.673028</td>\n",
       "      <td>42</td>\n",
       "      <td>высшее</td>\n",
       "      <td>0</td>\n",
       "      <td>женат / замужем</td>\n",
       "      <td>0</td>\n",
       "      <td>F</td>\n",
       "      <td>сотрудник</td>\n",
       "      <td>0</td>\n",
       "      <td>253875.639453</td>\n",
       "      <td>покупка жилья</td>\n",
       "    </tr>\n",
       "    <tr>\n",
       "      <td>1</td>\n",
       "      <td>1</td>\n",
       "      <td>4024.803754</td>\n",
       "      <td>36</td>\n",
       "      <td>среднее</td>\n",
       "      <td>1</td>\n",
       "      <td>женат / замужем</td>\n",
       "      <td>0</td>\n",
       "      <td>F</td>\n",
       "      <td>сотрудник</td>\n",
       "      <td>0</td>\n",
       "      <td>112080.014102</td>\n",
       "      <td>приобретение автомобиля</td>\n",
       "    </tr>\n",
       "    <tr>\n",
       "      <td>2</td>\n",
       "      <td>0</td>\n",
       "      <td>5623.422610</td>\n",
       "      <td>33</td>\n",
       "      <td>Среднее</td>\n",
       "      <td>1</td>\n",
       "      <td>женат / замужем</td>\n",
       "      <td>0</td>\n",
       "      <td>M</td>\n",
       "      <td>сотрудник</td>\n",
       "      <td>0</td>\n",
       "      <td>145885.952297</td>\n",
       "      <td>покупка жилья</td>\n",
       "    </tr>\n",
       "    <tr>\n",
       "      <td>3</td>\n",
       "      <td>3</td>\n",
       "      <td>4124.747207</td>\n",
       "      <td>32</td>\n",
       "      <td>среднее</td>\n",
       "      <td>1</td>\n",
       "      <td>женат / замужем</td>\n",
       "      <td>0</td>\n",
       "      <td>M</td>\n",
       "      <td>сотрудник</td>\n",
       "      <td>0</td>\n",
       "      <td>267628.550329</td>\n",
       "      <td>дополнительное образование</td>\n",
       "    </tr>\n",
       "    <tr>\n",
       "      <td>4</td>\n",
       "      <td>0</td>\n",
       "      <td>340266.072047</td>\n",
       "      <td>53</td>\n",
       "      <td>среднее</td>\n",
       "      <td>1</td>\n",
       "      <td>гражданский брак</td>\n",
       "      <td>1</td>\n",
       "      <td>F</td>\n",
       "      <td>пенсионер</td>\n",
       "      <td>0</td>\n",
       "      <td>158616.077870</td>\n",
       "      <td>сыграть свадьбу</td>\n",
       "    </tr>\n",
       "    <tr>\n",
       "      <td>5</td>\n",
       "      <td>0</td>\n",
       "      <td>926.185831</td>\n",
       "      <td>27</td>\n",
       "      <td>высшее</td>\n",
       "      <td>0</td>\n",
       "      <td>гражданский брак</td>\n",
       "      <td>1</td>\n",
       "      <td>M</td>\n",
       "      <td>компаньон</td>\n",
       "      <td>0</td>\n",
       "      <td>255763.565419</td>\n",
       "      <td>покупка жилья</td>\n",
       "    </tr>\n",
       "    <tr>\n",
       "      <td>6</td>\n",
       "      <td>0</td>\n",
       "      <td>2879.202052</td>\n",
       "      <td>43</td>\n",
       "      <td>высшее</td>\n",
       "      <td>0</td>\n",
       "      <td>женат / замужем</td>\n",
       "      <td>0</td>\n",
       "      <td>F</td>\n",
       "      <td>компаньон</td>\n",
       "      <td>0</td>\n",
       "      <td>240525.971920</td>\n",
       "      <td>операции с жильем</td>\n",
       "    </tr>\n",
       "    <tr>\n",
       "      <td>7</td>\n",
       "      <td>0</td>\n",
       "      <td>152.779569</td>\n",
       "      <td>50</td>\n",
       "      <td>СРЕДНЕЕ</td>\n",
       "      <td>1</td>\n",
       "      <td>женат / замужем</td>\n",
       "      <td>0</td>\n",
       "      <td>M</td>\n",
       "      <td>сотрудник</td>\n",
       "      <td>0</td>\n",
       "      <td>135823.934197</td>\n",
       "      <td>образование</td>\n",
       "    </tr>\n",
       "    <tr>\n",
       "      <td>8</td>\n",
       "      <td>2</td>\n",
       "      <td>6929.865299</td>\n",
       "      <td>35</td>\n",
       "      <td>ВЫСШЕЕ</td>\n",
       "      <td>0</td>\n",
       "      <td>гражданский брак</td>\n",
       "      <td>1</td>\n",
       "      <td>F</td>\n",
       "      <td>сотрудник</td>\n",
       "      <td>0</td>\n",
       "      <td>95856.832424</td>\n",
       "      <td>на проведение свадьбы</td>\n",
       "    </tr>\n",
       "    <tr>\n",
       "      <td>9</td>\n",
       "      <td>0</td>\n",
       "      <td>2188.756445</td>\n",
       "      <td>41</td>\n",
       "      <td>среднее</td>\n",
       "      <td>1</td>\n",
       "      <td>женат / замужем</td>\n",
       "      <td>0</td>\n",
       "      <td>M</td>\n",
       "      <td>сотрудник</td>\n",
       "      <td>0</td>\n",
       "      <td>144425.938277</td>\n",
       "      <td>покупка жилья для семьи</td>\n",
       "    </tr>\n",
       "    <tr>\n",
       "      <td>10</td>\n",
       "      <td>2</td>\n",
       "      <td>4171.483647</td>\n",
       "      <td>36</td>\n",
       "      <td>высшее</td>\n",
       "      <td>0</td>\n",
       "      <td>женат / замужем</td>\n",
       "      <td>0</td>\n",
       "      <td>M</td>\n",
       "      <td>компаньон</td>\n",
       "      <td>0</td>\n",
       "      <td>113943.491460</td>\n",
       "      <td>покупка недвижимости</td>\n",
       "    </tr>\n",
       "    <tr>\n",
       "      <td>11</td>\n",
       "      <td>0</td>\n",
       "      <td>792.701887</td>\n",
       "      <td>40</td>\n",
       "      <td>среднее</td>\n",
       "      <td>1</td>\n",
       "      <td>женат / замужем</td>\n",
       "      <td>0</td>\n",
       "      <td>F</td>\n",
       "      <td>сотрудник</td>\n",
       "      <td>0</td>\n",
       "      <td>77069.234271</td>\n",
       "      <td>покупка коммерческой недвижимости</td>\n",
       "    </tr>\n",
       "    <tr>\n",
       "      <td>12</td>\n",
       "      <td>0</td>\n",
       "      <td>365213.306266</td>\n",
       "      <td>65</td>\n",
       "      <td>среднее</td>\n",
       "      <td>1</td>\n",
       "      <td>гражданский брак</td>\n",
       "      <td>1</td>\n",
       "      <td>M</td>\n",
       "      <td>пенсионер</td>\n",
       "      <td>0</td>\n",
       "      <td>118514.486412</td>\n",
       "      <td>сыграть свадьбу</td>\n",
       "    </tr>\n",
       "    <tr>\n",
       "      <td>13</td>\n",
       "      <td>0</td>\n",
       "      <td>1846.641941</td>\n",
       "      <td>54</td>\n",
       "      <td>неоконченное высшее</td>\n",
       "      <td>2</td>\n",
       "      <td>женат / замужем</td>\n",
       "      <td>0</td>\n",
       "      <td>F</td>\n",
       "      <td>сотрудник</td>\n",
       "      <td>0</td>\n",
       "      <td>130458.228857</td>\n",
       "      <td>приобретение автомобиля</td>\n",
       "    </tr>\n",
       "  </tbody>\n",
       "</table>\n",
       "</div>"
      ],
      "text/plain": [
       "    children  days_employed  dob_years            education  education_id  \\\n",
       "0          1    8437.673028         42               высшее             0   \n",
       "1          1    4024.803754         36              среднее             1   \n",
       "2          0    5623.422610         33              Среднее             1   \n",
       "3          3    4124.747207         32              среднее             1   \n",
       "4          0  340266.072047         53              среднее             1   \n",
       "5          0     926.185831         27               высшее             0   \n",
       "6          0    2879.202052         43               высшее             0   \n",
       "7          0     152.779569         50              СРЕДНЕЕ             1   \n",
       "8          2    6929.865299         35               ВЫСШЕЕ             0   \n",
       "9          0    2188.756445         41              среднее             1   \n",
       "10         2    4171.483647         36               высшее             0   \n",
       "11         0     792.701887         40              среднее             1   \n",
       "12         0  365213.306266         65              среднее             1   \n",
       "13         0    1846.641941         54  неоконченное высшее             2   \n",
       "\n",
       "       family_status  family_status_id gender income_type  debt  \\\n",
       "0    женат / замужем                 0      F   сотрудник     0   \n",
       "1    женат / замужем                 0      F   сотрудник     0   \n",
       "2    женат / замужем                 0      M   сотрудник     0   \n",
       "3    женат / замужем                 0      M   сотрудник     0   \n",
       "4   гражданский брак                 1      F   пенсионер     0   \n",
       "5   гражданский брак                 1      M   компаньон     0   \n",
       "6    женат / замужем                 0      F   компаньон     0   \n",
       "7    женат / замужем                 0      M   сотрудник     0   \n",
       "8   гражданский брак                 1      F   сотрудник     0   \n",
       "9    женат / замужем                 0      M   сотрудник     0   \n",
       "10   женат / замужем                 0      M   компаньон     0   \n",
       "11   женат / замужем                 0      F   сотрудник     0   \n",
       "12  гражданский брак                 1      M   пенсионер     0   \n",
       "13   женат / замужем                 0      F   сотрудник     0   \n",
       "\n",
       "     total_income                            purpose  \n",
       "0   253875.639453                      покупка жилья  \n",
       "1   112080.014102            приобретение автомобиля  \n",
       "2   145885.952297                      покупка жилья  \n",
       "3   267628.550329         дополнительное образование  \n",
       "4   158616.077870                    сыграть свадьбу  \n",
       "5   255763.565419                      покупка жилья  \n",
       "6   240525.971920                  операции с жильем  \n",
       "7   135823.934197                        образование  \n",
       "8    95856.832424              на проведение свадьбы  \n",
       "9   144425.938277            покупка жилья для семьи  \n",
       "10  113943.491460               покупка недвижимости  \n",
       "11   77069.234271  покупка коммерческой недвижимости  \n",
       "12  118514.486412                    сыграть свадьбу  \n",
       "13  130458.228857            приобретение автомобиля  "
      ]
     },
     "metadata": {},
     "output_type": "display_data"
    },
    {
     "name": "stdout",
     "output_type": "stream",
     "text": [
      "<class 'pandas.core.frame.DataFrame'>\n",
      "RangeIndex: 21525 entries, 0 to 21524\n",
      "Data columns (total 12 columns):\n",
      "children            21525 non-null int64\n",
      "days_employed       21525 non-null float64\n",
      "dob_years           21525 non-null int64\n",
      "education           21525 non-null object\n",
      "education_id        21525 non-null int64\n",
      "family_status       21525 non-null object\n",
      "family_status_id    21525 non-null int64\n",
      "gender              21525 non-null object\n",
      "income_type         21525 non-null object\n",
      "debt                21525 non-null int64\n",
      "total_income        21525 non-null float64\n",
      "purpose             21525 non-null object\n",
      "dtypes: float64(2), int64(5), object(5)\n",
      "memory usage: 2.0+ MB\n"
     ]
    }
   ],
   "source": [
    "#------------------------------\n",
    "# Подготока структур для храниения данных\n",
    "c = df['income_type'].unique()\n",
    "df['days_employed'] = abs(df['days_employed'])\n",
    "m_list_for_total_income = []\n",
    "m_list_for_days_employed = []\n",
    "#-------------------------------\n",
    "# Создание словарей из уникальных значений столбцов и соответствующих им медианных значений\n",
    "for i in c: \n",
    "    m_for_total_income = (df[df['income_type']==i]['total_income']).median()\n",
    "    m_list_for_total_income.append(m_for_total_income)\n",
    "    m_for_days_employed = (df[df['income_type']==i]['days_employed']).median()\n",
    "    m_list_for_days_employed.append(m_for_days_employed)\n",
    "dict_for_total_income = dict(zip(c,m_list_for_total_income))\n",
    "dict_for_days_employed = dict(zip(c,m_list_for_days_employed))\n",
    "#-------------------------------\n",
    "#Функция для замены значений в столбце total_income  \n",
    "def total_income_without_nan(row):\n",
    "    total_income = row['total_income']\n",
    "#    days_employed = row['days_employed']\n",
    "    income_type = row['income_type']\n",
    "    if True in list(row.isnull()):\n",
    "        med_replace_total_income = dict_for_total_income[income_type] # словарь с соответствием медиан 'total_income' и значениями 'income_type' в виде ключей\n",
    "#        med_replace_days_employed = dict_for_days_employed[income_type] # словарь с соответствием медиан 'days_employed' и значениями 'income_type' в виде ключей\n",
    "        return med_replace_total_income\n",
    "#        return med_replace_days_employed\n",
    "    else:    \n",
    "        return total_income\n",
    "#        return days_employed\n",
    "\n",
    "#------------------------------------\n",
    "#Функция для замены значений в столбце days_employed (не знаю как вовращать или выводить значения для 2-х столбцов обновременно, поэтому разделил функции)\n",
    "def days_employed_without_nan(row):\n",
    "#    total_income = row['total_income']\n",
    "    days_employed = row['days_employed']\n",
    "    income_type = row['income_type']\n",
    "    if True in list(row.isnull()):\n",
    "#        med_replace_total_income = dict_for_total_income[income_type] # словарь с соответствием медиан 'total_income' и значениями 'income_type' в виде ключей\n",
    "        med_replace_days_employed = dict_for_days_employed[income_type] # словарь с соответствием медиан 'days_employed' и значениями 'income_type' в виде ключей\n",
    "#        return med_replace_total_income\n",
    "        return med_replace_days_employed\n",
    "    else:    \n",
    "#        return total_income\n",
    "        return days_employed\n",
    "\n",
    "df['total_income'] = df.apply(total_income_without_nan, axis = 1)\n",
    "df['days_employed'] = df.apply(days_employed_without_nan, axis = 1)  \n",
    "\n",
    "#-------------------------------        \n",
    "display(df.head(14))\n",
    "df.info()\n",
    "\n",
    "\n",
    "\n",
    "#def without_nan_in_total_income(row):\n",
    "#    if (row['total_income'].is null()) & (row['income_type'] = 'пенсионер'):\n",
    "#        df['total_income_nan'] = row['total_income'].fillna(dict_for_income_type['сотрудник'])\n",
    "#        row['days_employed'] = row['days_employed'].fillna(dict_for_days_employed['income_type'])\n",
    "#       \n",
    "#    clients['age_group'] = clients.apply(age_group_unemployed, axis=1) \n",
    "#df['total_income'] = df.apply(without_nan, axis=1)\n",
    "#df['total_income_pens'] = df[df['income_type'] == 'пенсионер']['total_income'].fillna(dict_for_total_income['пенсионер'])\n",
    "#for i in df['total_income']:\n",
    "#    if df[df['income_type'] == 'пенсионер'].isnull():\n",
    "#df['total_income'] = df['total_income'] + df['total_income_pens']\n",
    "#df['days_employed'] = df[df['income_type'] == 'пенсионер']['days_employed'].fillna(dict_for_days_employed['пенсионер'])\n",
    "#df['total_income'] = df[df['income_type'] == 'сотрудник']['total_income'].fillna(dict_for_total_income['сотрудник'])\n",
    "#df['days_employed'] = df[df['income_type'] == 'сотрудник']['days_employed'].fillna(dict_for_days_employed['сотрудник'])\n",
    "#for i in range(df.shape[0]):\n",
    "#    if (df.loc[i,'total_income'] == & (df.loc[i,'income_type'] == c): \n",
    "#        df.loc[i,'income_type'] = df.loc[i,'income_type'].replace('0',str(dict_for_income_type[df.loc[i,'income_type']]))\n",
    "#        df.loc[i,'days_employed'] = df.loc[i,'days_employed'].replace('0',str(dict_for_days_employed[df.loc[i,'days_employed']]))\n",
    "# Замена пропущенных значений на медианные\n",
    "#for i in range(df.shape[0]):\n",
    "#    if (df.loc[i,'total_income'].isnull()) & (df.loc[i,'income_type'] in c): \n",
    "#        df.loc[i,'income_type'] = df.loc[i,'income_type'].replace('0',str(dict_for_income_type[df.loc[i,'income_type']]))\n",
    "#        df.loc[i,'total_income'] = dict_for_income_type[df.loc[i,'income_type']]\n",
    "#    if (df.loc[i,'days_employed'] == 0) & (df.loc[i,'dob_years'] in d): \n",
    "#        df.loc[i,'days_employed'] = dict_for_days_employed[df.loc[i,'dob_years']]\n",
    "#---------------------------\n"
   ]
  },
  {
   "cell_type": "markdown",
   "metadata": {},
   "source": [
    "### Вывод"
   ]
  },
  {
   "cell_type": "markdown",
   "metadata": {},
   "source": [
    "Для избавления от пропущенных значений пришлось удалить 2173 строки, что может повлиять на результат исследования (~10% от всего объема данных). Медианные значения распределенные по возрастам заемщиков дали бы более достоверный результат. Тем не менее основная задача выполнена. Предположительно данные пропуски появились из-за отсутствия необходимости заполненения полей  'days_employed' и 'total_income' для определенных кредитов. При этом данные ропуки изначально не обрабатывались.\n",
    "\n",
    "P.S. Не обрабатывал артефакты (выбросы) в столбце 'days_employed', как лучше с ними поступить: раделить на продолжительность рабочего дня (8 часов) или на продолжительность суток - 24 часа?"
   ]
  },
  {
   "cell_type": "markdown",
   "metadata": {},
   "source": [
    "### Замена типа данных"
   ]
  },
  {
   "cell_type": "code",
   "execution_count": 11,
   "metadata": {},
   "outputs": [],
   "source": [
    "df['days_employed'] = df['days_employed'].astype('int')\n",
    "df['total_income'] = df['total_income'].astype('int')\n",
    "df['children'] = df['children'].replace(-1, 1)\n",
    "df['children'] = df['children'].replace(20, 2)"
   ]
  },
  {
   "cell_type": "markdown",
   "metadata": {},
   "source": [
    "### Вывод"
   ]
  },
  {
   "cell_type": "markdown",
   "metadata": {},
   "source": [
    "Произведена замена типа 'foat' на  тип 'int' в столбце со значениями трудового стажа в днях, поскольку оно является целочисленным значением. Применен метод astype() т.к. в нем можно явно указать тип, в который преобразуются значения. Еще на предыдущем шаге убраны отрицательные значения в столбце с трудовым стажем."
   ]
  },
  {
   "cell_type": "markdown",
   "metadata": {},
   "source": [
    "### Обработка дубликатов"
   ]
  },
  {
   "cell_type": "code",
   "execution_count": 12,
   "metadata": {},
   "outputs": [
    {
     "name": "stdout",
     "output_type": "stream",
     "text": [
      "<class 'pandas.core.frame.DataFrame'>\n",
      "RangeIndex: 21120 entries, 0 to 21119\n",
      "Data columns (total 13 columns):\n",
      "children            21120 non-null int64\n",
      "days_employed       21120 non-null int64\n",
      "dob_years           21120 non-null int64\n",
      "education           21120 non-null object\n",
      "education_id        21120 non-null int64\n",
      "family_status       21120 non-null object\n",
      "family_status_id    21120 non-null int64\n",
      "gender              21120 non-null object\n",
      "income_type         21120 non-null object\n",
      "debt                21120 non-null int64\n",
      "total_income        21120 non-null int64\n",
      "purpose             21120 non-null object\n",
      "income_level        21120 non-null object\n",
      "dtypes: int64(7), object(6)\n",
      "memory usage: 2.1+ MB\n"
     ]
    }
   ],
   "source": [
    "#print(df['education'].value_counts())\n",
    "#print(df['income_type'].value_counts())\n",
    "#print(df['family_status'].value_counts())\n",
    "#education +\n",
    "#income_type -\n",
    "#family_status +\n",
    "df['education'] = df['education'].str.lower()\n",
    "df['family_status'] = df['family_status'].str.lower()\n",
    "#display(df.groupby(['days_employed', 'total_income'])['purpose'].count())\n",
    "df = df.drop_duplicates().reset_index(drop = True)\n",
    "df.info()"
   ]
  },
  {
   "cell_type": "markdown",
   "metadata": {},
   "source": [
    "### Вывод"
   ]
  },
  {
   "cell_type": "markdown",
   "metadata": {},
   "source": [
    "Проведя анализ столбцов, определил, что повторящиеся данные могут находиться в столбцах 'education', 'family_status', 'income_type'. В итоге произвел замену данных в столбце 'education'. Нахождение дубликатов производил методом value_counts(). В столбце 'family_status' методом str.lower() привел все значения к одному формату. Предположительно повторы появились при заполнении формы на кредит либо сотрудникамии банка, либо клиентами, при этом изначально не был определен формат заполнения данных полей. Дубликаты обнаружены после замены пропущенных значений (а не их удаления). В результате из изначального массива данных удалено 405 записей."
   ]
  },
  {
   "cell_type": "markdown",
   "metadata": {},
   "source": [
    "### Лемматизация"
   ]
  },
  {
   "cell_type": "code",
   "execution_count": 13,
   "metadata": {},
   "outputs": [
    {
     "name": "stdout",
     "output_type": "stream",
     "text": [
      "[('\\n', 21120), ('недвижимость', 10578), ('автомобиль', 4272), ('образование', 3964), ('свадьба', 2306)]\n"
     ]
    }
   ],
   "source": [
    "list_for_purpose_lemms = []\n",
    "for i in range(df.shape[0]):\n",
    "    lemmas = m.lemmatize(df.loc[i, 'purpose'])\n",
    "    list_for_purpose_lemms += lemmas\n",
    "counter = Counter(list_for_purpose_lemms)    \n",
    "print(counter.most_common(len(counter)))"
   ]
  },
  {
   "cell_type": "markdown",
   "metadata": {},
   "source": [
    "### Вывод"
   ]
  },
  {
   "cell_type": "markdown",
   "metadata": {},
   "source": [
    "Лемматизация данных производилась по столбцу 'purpuse' путем нахождения лемм в каждой записи, затем данные записывались в общий список, производился подсчет количества уникальных значений в этом списке и сортировка их количества по убыванию в целях более наглядного представления и удобного анализа. Наиболее часто в целях кредита встречаются леммы, характеризующие действия с жильем/недвижимостью. "
   ]
  },
  {
   "cell_type": "markdown",
   "metadata": {},
   "source": [
    "### Категоризация данных"
   ]
  },
  {
   "cell_type": "code",
   "execution_count": 6,
   "metadata": {
    "scrolled": true
   },
   "outputs": [
    {
     "data": {
      "text/html": [
       "<div>\n",
       "<style scoped>\n",
       "    .dataframe tbody tr th:only-of-type {\n",
       "        vertical-align: middle;\n",
       "    }\n",
       "\n",
       "    .dataframe tbody tr th {\n",
       "        vertical-align: top;\n",
       "    }\n",
       "\n",
       "    .dataframe thead th {\n",
       "        text-align: right;\n",
       "    }\n",
       "</style>\n",
       "<table border=\"1\" class=\"dataframe\">\n",
       "  <thead>\n",
       "    <tr style=\"text-align: right;\">\n",
       "      <th></th>\n",
       "      <th>children</th>\n",
       "      <th>days_employed</th>\n",
       "      <th>dob_years</th>\n",
       "      <th>education</th>\n",
       "      <th>education_id</th>\n",
       "      <th>family_status</th>\n",
       "      <th>family_status_id</th>\n",
       "      <th>gender</th>\n",
       "      <th>income_type</th>\n",
       "      <th>debt</th>\n",
       "      <th>total_income</th>\n",
       "      <th>purpose</th>\n",
       "      <th>income_level</th>\n",
       "    </tr>\n",
       "  </thead>\n",
       "  <tbody>\n",
       "    <tr>\n",
       "      <td>0</td>\n",
       "      <td>1</td>\n",
       "      <td>8437</td>\n",
       "      <td>42</td>\n",
       "      <td>высшее</td>\n",
       "      <td>0</td>\n",
       "      <td>женат / замужем</td>\n",
       "      <td>0</td>\n",
       "      <td>F</td>\n",
       "      <td>сотрудник</td>\n",
       "      <td>0</td>\n",
       "      <td>253875</td>\n",
       "      <td>недвижимость</td>\n",
       "      <td>высокий</td>\n",
       "    </tr>\n",
       "    <tr>\n",
       "      <td>1</td>\n",
       "      <td>1</td>\n",
       "      <td>4024</td>\n",
       "      <td>36</td>\n",
       "      <td>среднее</td>\n",
       "      <td>1</td>\n",
       "      <td>женат / замужем</td>\n",
       "      <td>0</td>\n",
       "      <td>F</td>\n",
       "      <td>сотрудник</td>\n",
       "      <td>0</td>\n",
       "      <td>112080</td>\n",
       "      <td>автомобиль</td>\n",
       "      <td>ниже среднего</td>\n",
       "    </tr>\n",
       "    <tr>\n",
       "      <td>2</td>\n",
       "      <td>0</td>\n",
       "      <td>5623</td>\n",
       "      <td>33</td>\n",
       "      <td>среднее</td>\n",
       "      <td>1</td>\n",
       "      <td>женат / замужем</td>\n",
       "      <td>0</td>\n",
       "      <td>M</td>\n",
       "      <td>сотрудник</td>\n",
       "      <td>0</td>\n",
       "      <td>145885</td>\n",
       "      <td>недвижимость</td>\n",
       "      <td>ниже среднего</td>\n",
       "    </tr>\n",
       "    <tr>\n",
       "      <td>3</td>\n",
       "      <td>3</td>\n",
       "      <td>4124</td>\n",
       "      <td>32</td>\n",
       "      <td>среднее</td>\n",
       "      <td>1</td>\n",
       "      <td>женат / замужем</td>\n",
       "      <td>0</td>\n",
       "      <td>M</td>\n",
       "      <td>сотрудник</td>\n",
       "      <td>0</td>\n",
       "      <td>267628</td>\n",
       "      <td>образование</td>\n",
       "      <td>высокий</td>\n",
       "    </tr>\n",
       "    <tr>\n",
       "      <td>4</td>\n",
       "      <td>0</td>\n",
       "      <td>340266</td>\n",
       "      <td>53</td>\n",
       "      <td>среднее</td>\n",
       "      <td>1</td>\n",
       "      <td>гражданский брак</td>\n",
       "      <td>1</td>\n",
       "      <td>F</td>\n",
       "      <td>пенсионер</td>\n",
       "      <td>0</td>\n",
       "      <td>158616</td>\n",
       "      <td>свадьба</td>\n",
       "      <td>ниже среднего</td>\n",
       "    </tr>\n",
       "    <tr>\n",
       "      <td>5</td>\n",
       "      <td>0</td>\n",
       "      <td>926</td>\n",
       "      <td>27</td>\n",
       "      <td>высшее</td>\n",
       "      <td>0</td>\n",
       "      <td>гражданский брак</td>\n",
       "      <td>1</td>\n",
       "      <td>M</td>\n",
       "      <td>компаньон</td>\n",
       "      <td>0</td>\n",
       "      <td>255763</td>\n",
       "      <td>недвижимость</td>\n",
       "      <td>высокий</td>\n",
       "    </tr>\n",
       "    <tr>\n",
       "      <td>6</td>\n",
       "      <td>0</td>\n",
       "      <td>2879</td>\n",
       "      <td>43</td>\n",
       "      <td>высшее</td>\n",
       "      <td>0</td>\n",
       "      <td>женат / замужем</td>\n",
       "      <td>0</td>\n",
       "      <td>F</td>\n",
       "      <td>компаньон</td>\n",
       "      <td>0</td>\n",
       "      <td>240525</td>\n",
       "      <td>недвижимость</td>\n",
       "      <td>высокий</td>\n",
       "    </tr>\n",
       "    <tr>\n",
       "      <td>7</td>\n",
       "      <td>0</td>\n",
       "      <td>152</td>\n",
       "      <td>50</td>\n",
       "      <td>среднее</td>\n",
       "      <td>1</td>\n",
       "      <td>женат / замужем</td>\n",
       "      <td>0</td>\n",
       "      <td>M</td>\n",
       "      <td>сотрудник</td>\n",
       "      <td>0</td>\n",
       "      <td>135823</td>\n",
       "      <td>образование</td>\n",
       "      <td>ниже среднего</td>\n",
       "    </tr>\n",
       "    <tr>\n",
       "      <td>8</td>\n",
       "      <td>2</td>\n",
       "      <td>6929</td>\n",
       "      <td>35</td>\n",
       "      <td>высшее</td>\n",
       "      <td>0</td>\n",
       "      <td>гражданский брак</td>\n",
       "      <td>1</td>\n",
       "      <td>F</td>\n",
       "      <td>сотрудник</td>\n",
       "      <td>0</td>\n",
       "      <td>95856</td>\n",
       "      <td>свадьба</td>\n",
       "      <td>низкий</td>\n",
       "    </tr>\n",
       "    <tr>\n",
       "      <td>9</td>\n",
       "      <td>0</td>\n",
       "      <td>2188</td>\n",
       "      <td>41</td>\n",
       "      <td>среднее</td>\n",
       "      <td>1</td>\n",
       "      <td>женат / замужем</td>\n",
       "      <td>0</td>\n",
       "      <td>M</td>\n",
       "      <td>сотрудник</td>\n",
       "      <td>0</td>\n",
       "      <td>144425</td>\n",
       "      <td>недвижимость</td>\n",
       "      <td>ниже среднего</td>\n",
       "    </tr>\n",
       "    <tr>\n",
       "      <td>10</td>\n",
       "      <td>2</td>\n",
       "      <td>4171</td>\n",
       "      <td>36</td>\n",
       "      <td>высшее</td>\n",
       "      <td>0</td>\n",
       "      <td>женат / замужем</td>\n",
       "      <td>0</td>\n",
       "      <td>M</td>\n",
       "      <td>компаньон</td>\n",
       "      <td>0</td>\n",
       "      <td>113943</td>\n",
       "      <td>недвижимость</td>\n",
       "      <td>ниже среднего</td>\n",
       "    </tr>\n",
       "    <tr>\n",
       "      <td>11</td>\n",
       "      <td>0</td>\n",
       "      <td>792</td>\n",
       "      <td>40</td>\n",
       "      <td>среднее</td>\n",
       "      <td>1</td>\n",
       "      <td>женат / замужем</td>\n",
       "      <td>0</td>\n",
       "      <td>F</td>\n",
       "      <td>сотрудник</td>\n",
       "      <td>0</td>\n",
       "      <td>77069</td>\n",
       "      <td>недвижимость</td>\n",
       "      <td>низкий</td>\n",
       "    </tr>\n",
       "    <tr>\n",
       "      <td>12</td>\n",
       "      <td>0</td>\n",
       "      <td>365213</td>\n",
       "      <td>65</td>\n",
       "      <td>среднее</td>\n",
       "      <td>1</td>\n",
       "      <td>гражданский брак</td>\n",
       "      <td>1</td>\n",
       "      <td>M</td>\n",
       "      <td>пенсионер</td>\n",
       "      <td>0</td>\n",
       "      <td>118514</td>\n",
       "      <td>свадьба</td>\n",
       "      <td>ниже среднего</td>\n",
       "    </tr>\n",
       "    <tr>\n",
       "      <td>13</td>\n",
       "      <td>0</td>\n",
       "      <td>1846</td>\n",
       "      <td>54</td>\n",
       "      <td>неоконченное высшее</td>\n",
       "      <td>2</td>\n",
       "      <td>женат / замужем</td>\n",
       "      <td>0</td>\n",
       "      <td>F</td>\n",
       "      <td>сотрудник</td>\n",
       "      <td>0</td>\n",
       "      <td>130458</td>\n",
       "      <td>автомобиль</td>\n",
       "      <td>ниже среднего</td>\n",
       "    </tr>\n",
       "    <tr>\n",
       "      <td>14</td>\n",
       "      <td>0</td>\n",
       "      <td>1844</td>\n",
       "      <td>56</td>\n",
       "      <td>высшее</td>\n",
       "      <td>0</td>\n",
       "      <td>гражданский брак</td>\n",
       "      <td>1</td>\n",
       "      <td>F</td>\n",
       "      <td>компаньон</td>\n",
       "      <td>1</td>\n",
       "      <td>165127</td>\n",
       "      <td>недвижимость</td>\n",
       "      <td>выше среднего</td>\n",
       "    </tr>\n",
       "  </tbody>\n",
       "</table>\n",
       "</div>"
      ],
      "text/plain": [
       "    children  days_employed  dob_years            education  education_id  \\\n",
       "0          1           8437         42               высшее             0   \n",
       "1          1           4024         36              среднее             1   \n",
       "2          0           5623         33              среднее             1   \n",
       "3          3           4124         32              среднее             1   \n",
       "4          0         340266         53              среднее             1   \n",
       "5          0            926         27               высшее             0   \n",
       "6          0           2879         43               высшее             0   \n",
       "7          0            152         50              среднее             1   \n",
       "8          2           6929         35               высшее             0   \n",
       "9          0           2188         41              среднее             1   \n",
       "10         2           4171         36               высшее             0   \n",
       "11         0            792         40              среднее             1   \n",
       "12         0         365213         65              среднее             1   \n",
       "13         0           1846         54  неоконченное высшее             2   \n",
       "14         0           1844         56               высшее             0   \n",
       "\n",
       "       family_status  family_status_id gender income_type  debt  total_income  \\\n",
       "0    женат / замужем                 0      F   сотрудник     0        253875   \n",
       "1    женат / замужем                 0      F   сотрудник     0        112080   \n",
       "2    женат / замужем                 0      M   сотрудник     0        145885   \n",
       "3    женат / замужем                 0      M   сотрудник     0        267628   \n",
       "4   гражданский брак                 1      F   пенсионер     0        158616   \n",
       "5   гражданский брак                 1      M   компаньон     0        255763   \n",
       "6    женат / замужем                 0      F   компаньон     0        240525   \n",
       "7    женат / замужем                 0      M   сотрудник     0        135823   \n",
       "8   гражданский брак                 1      F   сотрудник     0         95856   \n",
       "9    женат / замужем                 0      M   сотрудник     0        144425   \n",
       "10   женат / замужем                 0      M   компаньон     0        113943   \n",
       "11   женат / замужем                 0      F   сотрудник     0         77069   \n",
       "12  гражданский брак                 1      M   пенсионер     0        118514   \n",
       "13   женат / замужем                 0      F   сотрудник     0        130458   \n",
       "14  гражданский брак                 1      F   компаньон     1        165127   \n",
       "\n",
       "         purpose   income_level  \n",
       "0   недвижимость        высокий  \n",
       "1     автомобиль  ниже среднего  \n",
       "2   недвижимость  ниже среднего  \n",
       "3    образование        высокий  \n",
       "4        свадьба  ниже среднего  \n",
       "5   недвижимость        высокий  \n",
       "6   недвижимость        высокий  \n",
       "7    образование  ниже среднего  \n",
       "8        свадьба         низкий  \n",
       "9   недвижимость  ниже среднего  \n",
       "10  недвижимость  ниже среднего  \n",
       "11  недвижимость         низкий  \n",
       "12       свадьба  ниже среднего  \n",
       "13    автомобиль  ниже среднего  \n",
       "14  недвижимость  выше среднего  "
      ]
     },
     "metadata": {},
     "output_type": "display_data"
    },
    {
     "name": "stdout",
     "output_type": "stream",
     "text": [
      "{0: 'высшее', 1: 'среднее', 2: 'неоконченное высшее', 3: 'начальное', 4: 'ученая степень'}\n",
      "{0: 'женат / замужем', 1: 'гражданский брак', 2: 'вдовец / вдова', 3: 'в разводе', 4: 'не женат / не замужем'}\n"
     ]
    }
   ],
   "source": [
    "#--------------------------------------\n",
    "#Категоризация по наиболее популярным леммам\n",
    "def purpose_group(purpose_string):\n",
    "    lemmas = m.lemmatize(purpose_string)\n",
    "    if ('недвижимость' in lemmas) or ('жилье' in lemmas):\n",
    "        return 'недвижимость'\n",
    "    elif 'автомобиль' in lemmas:\n",
    "        return 'автомобиль'\n",
    "    elif 'свадьба' in lemmas:\n",
    "        return 'свадьба'\n",
    "    elif 'образование' in lemmas:\n",
    "        return 'образование'\n",
    "    else:\n",
    "        return 'иная цель'\n",
    "df['purpose'] = df['purpose'].apply(purpose_group)\n",
    "income_median = df['total_income'].median()\n",
    "def income_level(income):\n",
    "    if 0 < income <= 0.7*income_median:\n",
    "        return 'низкий'\n",
    "    elif 0.7*income_median <= income <= 1.15*income_median:\n",
    "        return 'ниже среднего'\n",
    "    elif 1.15*income_median < income <= 1.55*income_median:\n",
    "        return 'выше среднего'\n",
    "    elif 1.55*income_median < income:\n",
    "        return 'высокий'\n",
    "df['income_level'] = df['total_income'].apply(income_level)\n",
    "display(df.head(15))\n",
    "#------------------------------------\n",
    "# Выделение словарей\n",
    "c = df[['education_id', 'education']]\n",
    "d = df[['family_status_id', 'family_status']]\n",
    "for i in c:\n",
    "    dict_education = dict(zip(c.loc[:,'education_id'], c.loc[:,'education']))\n",
    "    dict_family_status = dict(zip(d.loc[:,'family_status_id'], d.loc[:,'family_status']))\n",
    "print(dict_education)    \n",
    "print(dict_family_status)           "
   ]
  },
  {
   "cell_type": "markdown",
   "metadata": {},
   "source": [
    "### Вывод"
   ]
  },
  {
   "cell_type": "markdown",
   "metadata": {},
   "source": [
    "В данном задании я ввел 2 словаря. Первый из них классифицирует клиентов по цели кредита и заменяет значения столбца 'purpose' более общими, деля их на 4 категории: 'недвижимость', 'автомобиль', 'образование', ' свадьба'. Нераспределенных целей кредитов не обнаружено. Второй словарь введен для разделения кредитуемых лиц по уровню дохода относительно медианного значения столбца 'total_income': 'низкий', 'ниже среднего', 'выше среднего', 'высокий'. Оба словаря введены с целью ответа на вопросы шага 3. \n",
    "\n",
    "P.S. В комментариях в сообществе slackа приводились данные исследования ВШЭ о распределении людей на категории по уровню дохода. Правда там приводились 3 группы, я немного разнес границы средней части и разделил ее на 2 ('ниже среднего' и ' выше среднего').\n",
    "\n",
    "P.S.S Не думал, что здесь имеются ввиду 'словари' как структура данных языка python))"
   ]
  },
  {
   "cell_type": "markdown",
   "metadata": {},
   "source": [
    "### Шаг 3. Ответьте на вопросы"
   ]
  },
  {
   "cell_type": "markdown",
   "metadata": {},
   "source": [
    "- Есть ли зависимость между наличием детей и возвратом кредита в срок?"
   ]
  },
  {
   "cell_type": "code",
   "execution_count": 7,
   "metadata": {},
   "outputs": [
    {
     "name": "stdout",
     "output_type": "stream",
     "text": [
      "Возвращаемость кредитов клиентами с детьми составляет 0.9079179682194758 \n",
      "\n",
      "debt            0       1  Возвращаемость\n",
      "children                                 \n",
      "0         13028.0  1063.0        0.924562\n",
      "1          4410.0   445.0        0.908342\n",
      "2          1926.0   202.0        0.905075\n",
      "3           303.0    27.0        0.918182\n",
      "4            37.0     4.0        0.902439\n",
      "5             9.0     0.0        1.000000\n"
     ]
    }
   ],
   "source": [
    "data_pivot = df.pivot_table(index = ['children'], columns = 'debt',  values = 'purpose', aggfunc = 'count')\n",
    "data_pivot = data_pivot.fillna(0)\n",
    "data_pivot['Возвращаемость'] = data_pivot[0]/(data_pivot[0] + data_pivot[1])\n",
    "stat_with_children = df[df['children'] != 0].groupby('debt')['purpose'].count()\n",
    "with_children = stat_with_children[0]/(stat_with_children[0] + stat_with_children[1])\n",
    "print('Возвращаемость кредитов клиентами с детьми составляет', with_children, '\\n')\n",
    "print(data_pivot)"
   ]
  },
  {
   "cell_type": "markdown",
   "metadata": {},
   "source": [
    "### Вывод"
   ]
  },
  {
   "cell_type": "markdown",
   "metadata": {},
   "source": [
    " Оценка влияния количества детей в семье на возращаемость кредитов позволяет сделать вывод о том, что бездетные люди вероятнее осуществят выплату по займу в срок (92,5%), чем это сделают люди с детьми (90.7%). Предположительно данная тенденция связана с частыми непредвиденными тратами на детей и дополнительной статьей расхода. "
   ]
  },
  {
   "cell_type": "markdown",
   "metadata": {},
   "source": [
    "- Есть ли зависимость между семейным положением и возвратом кредита в срок?"
   ]
  },
  {
   "cell_type": "code",
   "execution_count": 8,
   "metadata": {},
   "outputs": [
    {
     "name": "stdout",
     "output_type": "stream",
     "text": [
      "debt                       0    1  Возвращаемость\n",
      "family_status                                    \n",
      "вдовец / вдова           896   63        0.934307\n",
      "в разводе               1110   85        0.928870\n",
      "женат / замужем        11408  931        0.924548\n",
      "гражданский брак        3763  388        0.906529\n",
      "не женат / не замужем   2536  274        0.902491\n"
     ]
    }
   ],
   "source": [
    "data_pivot_1 = df.pivot_table(index = ['family_status'], columns = 'debt',  values = 'purpose', aggfunc = 'count')\n",
    "#data_pivot_1 = data_pivot_1.fillna(0)\n",
    "data_pivot_1['Возвращаемость'] = data_pivot_1[0]/(data_pivot_1[0] + data_pivot_1[1])\n",
    "print(data_pivot_1.sort_values(by = 'Возвращаемость', ascending = False))"
   ]
  },
  {
   "cell_type": "markdown",
   "metadata": {},
   "source": [
    "### Вывод"
   ]
  },
  {
   "cell_type": "markdown",
   "metadata": {},
   "source": [
    " По результатам анализа удалось установить, что наибольшее влияние на возвращаемость кредита в срок оказывает семейное положение и цель кредита. Таким образом вдовцы\\вдовы и люди, находящиеся в разводе, по статистике возвращают кредиты более ответственно, чем остальные группы клиентов банка (93,4% и 92,9%). Однако в сумме 2 эти группы в сумме составляют всего 10% от рассматриваемого количества людей. В тоже время клиенты, находящиеся замужем / женатые, сотавляют более 50% всего массива данных и возвращаемость кредитов в срок данной категорией лиц не на много ниже, чем у двух предыдущих (92,5%). Вероятно, это связано с принятием решения о необходимости кредита не одним человеком, а целой семьей, что позволяет более разносотронне определять финансовые риски. "
   ]
  },
  {
   "cell_type": "markdown",
   "metadata": {},
   "source": [
    "- Есть ли зависимость между уровнем дохода и возвратом кредита в срок?"
   ]
  },
  {
   "cell_type": "code",
   "execution_count": 9,
   "metadata": {},
   "outputs": [
    {
     "name": "stdout",
     "output_type": "stream",
     "text": [
      "debt              0    1  Возвращаемость\n",
      "income_level                            \n",
      "высокий        3681  280        0.929311\n",
      "низкий         4086  353        0.920478\n",
      "выше среднего  3981  359        0.917281\n",
      "ниже среднего  7965  749        0.914046\n"
     ]
    }
   ],
   "source": [
    "data_pivot_2 = df.pivot_table(index = ['income_level'], columns = 'debt',  values = 'purpose', aggfunc = 'count')\n",
    "#data_pivot_2 = data_pivot_1.fillna(0)\n",
    "data_pivot_2['Возвращаемость'] = data_pivot_2[0]/(data_pivot_2[0] + data_pivot_2[1])\n",
    "print(data_pivot_2.sort_values(by = 'Возвращаемость', ascending = False))"
   ]
  },
  {
   "cell_type": "markdown",
   "metadata": {},
   "source": [
    "### Вывод"
   ]
  },
  {
   "cell_type": "markdown",
   "metadata": {},
   "source": [
    "Возвращаемость кредитов клиентами c высоким уровнем дохода незначительно выше, чем данный показатель у остальных категорий кредитуемых лиц. Данная закономерность связана с их более высокой платежной способностью. "
   ]
  },
  {
   "cell_type": "markdown",
   "metadata": {},
   "source": [
    "- Как разные цели кредита влияют на его возврат в срок?"
   ]
  },
  {
   "cell_type": "code",
   "execution_count": 10,
   "metadata": {},
   "outputs": [
    {
     "name": "stdout",
     "output_type": "stream",
     "text": [
      "debt              0    1  Возвращаемость\n",
      "purpose                                 \n",
      "недвижимость  10029  782        0.927666\n",
      "свадьба        2138  186        0.919966\n",
      "образование    3643  370        0.907800\n",
      "автомобиль     3903  403        0.906410\n"
     ]
    }
   ],
   "source": [
    "data_pivot_3 = df.pivot_table(index = ['purpose'], columns = 'debt',  values = 'income_level', aggfunc = 'count')\n",
    "data_pivot_3['Возвращаемость'] = data_pivot_3[0]/(data_pivot_3[0] + data_pivot_3[1])\n",
    "print(data_pivot_3.sort_values(by = 'Возвращаемость', ascending = False))"
   ]
  },
  {
   "cell_type": "markdown",
   "metadata": {},
   "source": [
    "### Вывод"
   ]
  },
  {
   "cell_type": "markdown",
   "metadata": {},
   "source": [
    "Возвращаемость кредитов на недвижимость и свадьбы выше, чем на образование и автомобили. Данная ситуация может быть связана с тем, что к покупке недвижимости люди подходят более ответственно из-за её высокой стоимости, а свадьбы зачастую окупаются за счет подарков.    "
   ]
  },
  {
   "cell_type": "markdown",
   "metadata": {},
   "source": [
    "### Шаг 4. Общий вывод"
   ]
  },
  {
   "cell_type": "markdown",
   "metadata": {},
   "source": [
    "   В ходе анализа предоставленных данных проведена оценка зависимости между различными факторами (семейное положение, уровень дохода, наличие и количество детей, цель кредита) и возвращаемостью кредита в срок. Осуществлена предобработка данных, а также классификация кредетуемых лиц по группам для более качественного определения влияния рассматриваемых показателей.  \n",
    "    По результатам анализа удалось установить,что клиенты, находящиеся замужем / женатые, сотавляют более 50% всего массива данных и возвращаемость кредитов в срок данной категорией лиц (92,5%) не на много ниже, чем у вдовцы\\вдовы и люди, находящиеся в разводе, вдовцы\\вдовы и люди, находящиеся в разводе (93,4% и 92,9%). Вероятно, это связано с принятием решения о необходимости кредита не одним человеком, а целой семьей, что позволяет более разносторонне определять финансовые риски.      \n",
    "    Возвращаемость кредитов на недвижимость (92,8%) и свадьбы (92,0%) выше, чем на образование (90,8%) и автомобили (90,6%). Данная ситуация может быть связана с тем, что к покупке недвижимости люди подходят более ответственно из-за её высокой стоимости, а свадьбы зачастую окупаются за счет подарков.\n",
    "    Оценка влияния количества детей в семье на возращаемость кредитов позволяет сделать вывод о том, что бездетные люди вероятнее осуществят выплату по займу в срок (92,5%), чем это сделают люди с детьми (90.7%). Предположительно данная тенденция связана с частыми непредвиденными тратами на детей и дополнительной статьей расхода.\n",
    "    Возвращаемость кредитов клиентами c высоким уровнем дохода незначительно выше (92,9%), чем данный показатель у остальных категорий кредитуемых лиц (91,6%). Данная закономерность связана с их более высокой платежной способностью. \n",
    "    "
   ]
  },
  {
   "cell_type": "markdown",
   "metadata": {},
   "source": [
    "### Чек-лист готовности проекта\n",
    "\n",
    "Поставьте 'x' в выполненных пунктах. Далее нажмите Shift+Enter."
   ]
  },
  {
   "cell_type": "markdown",
   "metadata": {},
   "source": [
    "- [X]  открыт файл;\n",
    "- [X]  файл изучен;\n",
    "- [X]  определены пропущенные значения;\n",
    "- [X]  заполнены пропущенные значения;\n",
    "- [X]  есть пояснение, какие пропущенные значения обнаружены;\n",
    "- [X]  описаны возможные причины появления пропусков в данных;\n",
    "- [X]  объяснено, по какому принципу заполнены пропуски;\n",
    "- [X]  заменен вещественный тип данных на целочисленный;\n",
    "- [X]  есть пояснение, какой метод используется для изменения типа данных и почему;\n",
    "- [X]  удалены дубликаты;\n",
    "- [X]  есть пояснение, какой метод используется для поиска и удаления дубликатов;\n",
    "- [X]  описаны возможные причины появления дубликатов в данных;\n",
    "- [X]  выделены леммы в значениях столбца с целями получения кредита;\n",
    "- [X]  описан процесс лемматизации;\n",
    "- [X]  данные категоризированы;\n",
    "- [X]  есть объяснение принципа категоризации данных;\n",
    "- [X]  есть ответ на вопрос: \"Есть ли зависимость между наличием детей и возвратом кредита в срок?\";\n",
    "- [X]  есть ответ на вопрос: \"Есть ли зависимость между семейным положением и возвратом кредита в срок?\";\n",
    "- [X]  есть ответ на вопрос: \"Есть ли зависимость между уровнем дохода и возвратом кредита в срок?\";\n",
    "- [X]  есть ответ на вопрос: \"Как разные цели кредита влияют на его возврат в срок?\";\n",
    "- [X]  в каждом этапе есть выводы;\n",
    "- [X]  есть общий вывод."
   ]
  }
 ],
 "metadata": {
  "kernelspec": {
   "display_name": "Python 3",
   "language": "python",
   "name": "python3"
  },
  "language_info": {
   "codemirror_mode": {
    "name": "ipython",
    "version": 3
   },
   "file_extension": ".py",
   "mimetype": "text/x-python",
   "name": "python",
   "nbconvert_exporter": "python",
   "pygments_lexer": "ipython3",
   "version": "3.8.3"
  },
  "toc": {
   "base_numbering": 1,
   "nav_menu": {},
   "number_sections": true,
   "sideBar": true,
   "skip_h1_title": true,
   "title_cell": "Table of Contents",
   "title_sidebar": "Contents",
   "toc_cell": false,
   "toc_position": {},
   "toc_section_display": true,
   "toc_window_display": false
  }
 },
 "nbformat": 4,
 "nbformat_minor": 2
}
