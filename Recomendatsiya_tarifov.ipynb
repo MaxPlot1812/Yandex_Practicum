{
 "cells": [
  {
   "cell_type": "markdown",
   "metadata": {},
   "source": [
    "# Рекомендация тарифов"
   ]
  },
  {
   "cell_type": "markdown",
   "metadata": {},
   "source": [
    "В вашем распоряжении данные о поведении клиентов, которые уже перешли на эти тарифы (из проекта курса «Статистический анализ данных»). Нужно построить модель для задачи классификации, которая выберет подходящий тариф. Предобработка данных не понадобится — вы её уже сделали.\n",
    "\n",
    "Постройте модель с максимально большим значением *accuracy*. Чтобы сдать проект успешно, нужно довести долю правильных ответов по крайней мере до 0.75. Проверьте *accuracy* на тестовой выборке самостоятельно."
   ]
  },
  {
   "cell_type": "markdown",
   "metadata": {},
   "source": [
    "## 1. Откройте и изучите файл"
   ]
  },
  {
   "cell_type": "markdown",
   "metadata": {},
   "source": [
    "В проекте для анализа представлена таблица, в которой содержатся объемы услуг, использованных каждым клиентом оператора сотовой связи. При помощи этих данных на основе алгоритмов машинного обучения предстоит решить задачу классификации, а именно рекомендации каждому клиенту одного из двух тарифов. Для начала необходимо изучить представленные данные. Так как предобработка проведена без нашего участия, этот этап не займет много времени. Далее необходимо разбить датасет на три выборки (обучающую, валидационную и тестовую), ведь отдельных данных для тестирования модели у нас нет. Разделим их в соотношении 3:1:1. На следующем этапе неоходимо обучить модели (дерево решений, случайный лес и логистическая регрессия) и проверить их метрику качества при различных гиперпараметрах. Для лучшей модели произведем расчет метрики качества уже на тестовой выборке и при необходимости улучшим показатели выше значения 0.75.  "
   ]
  },
  {
   "cell_type": "code",
   "execution_count": 1,
   "metadata": {},
   "outputs": [],
   "source": [
    "import pandas as pd\n",
    "from sklearn.model_selection import train_test_split\n",
    "from sklearn.tree import DecisionTreeClassifier\n",
    "from sklearn.ensemble import RandomForestClassifier\n",
    "from sklearn.linear_model import LogisticRegression\n",
    "from sklearn.metrics import accuracy_score\n",
    "from sklearn.metrics import roc_auc_score"
   ]
  },
  {
   "cell_type": "code",
   "execution_count": 2,
   "metadata": {},
   "outputs": [
    {
     "name": "stdout",
     "output_type": "stream",
     "text": [
      "<class 'pandas.core.frame.DataFrame'>\n",
      "RangeIndex: 3214 entries, 0 to 3213\n",
      "Data columns (total 5 columns):\n",
      "calls       3214 non-null float64\n",
      "minutes     3214 non-null float64\n",
      "messages    3214 non-null float64\n",
      "mb_used     3214 non-null float64\n",
      "is_ultra    3214 non-null int64\n",
      "dtypes: float64(4), int64(1)\n",
      "memory usage: 125.7 KB\n"
     ]
    },
    {
     "data": {
      "text/html": [
       "<div>\n",
       "<style scoped>\n",
       "    .dataframe tbody tr th:only-of-type {\n",
       "        vertical-align: middle;\n",
       "    }\n",
       "\n",
       "    .dataframe tbody tr th {\n",
       "        vertical-align: top;\n",
       "    }\n",
       "\n",
       "    .dataframe thead th {\n",
       "        text-align: right;\n",
       "    }\n",
       "</style>\n",
       "<table border=\"1\" class=\"dataframe\">\n",
       "  <thead>\n",
       "    <tr style=\"text-align: right;\">\n",
       "      <th></th>\n",
       "      <th>calls</th>\n",
       "      <th>minutes</th>\n",
       "      <th>messages</th>\n",
       "      <th>mb_used</th>\n",
       "      <th>is_ultra</th>\n",
       "    </tr>\n",
       "  </thead>\n",
       "  <tbody>\n",
       "    <tr>\n",
       "      <td>0</td>\n",
       "      <td>40.0</td>\n",
       "      <td>311.90</td>\n",
       "      <td>83.0</td>\n",
       "      <td>19915.42</td>\n",
       "      <td>0</td>\n",
       "    </tr>\n",
       "    <tr>\n",
       "      <td>1</td>\n",
       "      <td>85.0</td>\n",
       "      <td>516.75</td>\n",
       "      <td>56.0</td>\n",
       "      <td>22696.96</td>\n",
       "      <td>0</td>\n",
       "    </tr>\n",
       "    <tr>\n",
       "      <td>2</td>\n",
       "      <td>77.0</td>\n",
       "      <td>467.66</td>\n",
       "      <td>86.0</td>\n",
       "      <td>21060.45</td>\n",
       "      <td>0</td>\n",
       "    </tr>\n",
       "    <tr>\n",
       "      <td>3</td>\n",
       "      <td>106.0</td>\n",
       "      <td>745.53</td>\n",
       "      <td>81.0</td>\n",
       "      <td>8437.39</td>\n",
       "      <td>1</td>\n",
       "    </tr>\n",
       "    <tr>\n",
       "      <td>4</td>\n",
       "      <td>66.0</td>\n",
       "      <td>418.74</td>\n",
       "      <td>1.0</td>\n",
       "      <td>14502.75</td>\n",
       "      <td>0</td>\n",
       "    </tr>\n",
       "    <tr>\n",
       "      <td>5</td>\n",
       "      <td>58.0</td>\n",
       "      <td>344.56</td>\n",
       "      <td>21.0</td>\n",
       "      <td>15823.37</td>\n",
       "      <td>0</td>\n",
       "    </tr>\n",
       "    <tr>\n",
       "      <td>6</td>\n",
       "      <td>57.0</td>\n",
       "      <td>431.64</td>\n",
       "      <td>20.0</td>\n",
       "      <td>3738.90</td>\n",
       "      <td>1</td>\n",
       "    </tr>\n",
       "    <tr>\n",
       "      <td>7</td>\n",
       "      <td>15.0</td>\n",
       "      <td>132.40</td>\n",
       "      <td>6.0</td>\n",
       "      <td>21911.60</td>\n",
       "      <td>0</td>\n",
       "    </tr>\n",
       "    <tr>\n",
       "      <td>8</td>\n",
       "      <td>7.0</td>\n",
       "      <td>43.39</td>\n",
       "      <td>3.0</td>\n",
       "      <td>2538.67</td>\n",
       "      <td>1</td>\n",
       "    </tr>\n",
       "    <tr>\n",
       "      <td>9</td>\n",
       "      <td>90.0</td>\n",
       "      <td>665.41</td>\n",
       "      <td>38.0</td>\n",
       "      <td>17358.61</td>\n",
       "      <td>0</td>\n",
       "    </tr>\n",
       "  </tbody>\n",
       "</table>\n",
       "</div>"
      ],
      "text/plain": [
       "   calls  minutes  messages   mb_used  is_ultra\n",
       "0   40.0   311.90      83.0  19915.42         0\n",
       "1   85.0   516.75      56.0  22696.96         0\n",
       "2   77.0   467.66      86.0  21060.45         0\n",
       "3  106.0   745.53      81.0   8437.39         1\n",
       "4   66.0   418.74       1.0  14502.75         0\n",
       "5   58.0   344.56      21.0  15823.37         0\n",
       "6   57.0   431.64      20.0   3738.90         1\n",
       "7   15.0   132.40       6.0  21911.60         0\n",
       "8    7.0    43.39       3.0   2538.67         1\n",
       "9   90.0   665.41      38.0  17358.61         0"
      ]
     },
     "metadata": {},
     "output_type": "display_data"
    }
   ],
   "source": [
    "tariffs = pd.read_csv('/datasets/users_behavior.csv')\n",
    "tariffs.info()\n",
    "display(tariffs.head(10))"
   ]
  },
  {
   "cell_type": "markdown",
   "metadata": {},
   "source": [
    "В таблице представлены данные о количестве звонков, потраченных на них минутах, сообщениях, использованном объеме\n",
    "интернет-трафика (в Mb). Также есть информация о тарифе, использует ли клиент тариф \"Ultra\". Последнее поле используем в качестве целевого признака, остальные применим в качестве признаков.  "
   ]
  },
  {
   "cell_type": "markdown",
   "metadata": {},
   "source": [
    "## 2. Разбейте данные на выборки"
   ]
  },
  {
   "cell_type": "code",
   "execution_count": 4,
   "metadata": {},
   "outputs": [
    {
     "name": "stdout",
     "output_type": "stream",
     "text": [
      "----------------features_test--------------------\n",
      "<class 'pandas.core.frame.DataFrame'>\n",
      "Int64Index: 643 entries, 3077 to 882\n",
      "Data columns (total 4 columns):\n",
      "calls       643 non-null float64\n",
      "minutes     643 non-null float64\n",
      "messages    643 non-null float64\n",
      "mb_used     643 non-null float64\n",
      "dtypes: float64(4)\n",
      "memory usage: 25.1 KB\n"
     ]
    },
    {
     "data": {
      "text/html": [
       "<div>\n",
       "<style scoped>\n",
       "    .dataframe tbody tr th:only-of-type {\n",
       "        vertical-align: middle;\n",
       "    }\n",
       "\n",
       "    .dataframe tbody tr th {\n",
       "        vertical-align: top;\n",
       "    }\n",
       "\n",
       "    .dataframe thead th {\n",
       "        text-align: right;\n",
       "    }\n",
       "</style>\n",
       "<table border=\"1\" class=\"dataframe\">\n",
       "  <thead>\n",
       "    <tr style=\"text-align: right;\">\n",
       "      <th></th>\n",
       "      <th>calls</th>\n",
       "      <th>minutes</th>\n",
       "      <th>messages</th>\n",
       "      <th>mb_used</th>\n",
       "    </tr>\n",
       "  </thead>\n",
       "  <tbody>\n",
       "    <tr>\n",
       "      <td>3077</td>\n",
       "      <td>22.0</td>\n",
       "      <td>120.09</td>\n",
       "      <td>16.0</td>\n",
       "      <td>9039.57</td>\n",
       "    </tr>\n",
       "    <tr>\n",
       "      <td>3037</td>\n",
       "      <td>64.0</td>\n",
       "      <td>468.21</td>\n",
       "      <td>16.0</td>\n",
       "      <td>14669.87</td>\n",
       "    </tr>\n",
       "    <tr>\n",
       "      <td>1045</td>\n",
       "      <td>84.0</td>\n",
       "      <td>597.27</td>\n",
       "      <td>3.0</td>\n",
       "      <td>33352.80</td>\n",
       "    </tr>\n",
       "    <tr>\n",
       "      <td>2252</td>\n",
       "      <td>133.0</td>\n",
       "      <td>949.36</td>\n",
       "      <td>0.0</td>\n",
       "      <td>19036.43</td>\n",
       "    </tr>\n",
       "    <tr>\n",
       "      <td>1630</td>\n",
       "      <td>80.0</td>\n",
       "      <td>543.50</td>\n",
       "      <td>3.0</td>\n",
       "      <td>16831.90</td>\n",
       "    </tr>\n",
       "  </tbody>\n",
       "</table>\n",
       "</div>"
      ],
      "text/plain": [
       "      calls  minutes  messages   mb_used\n",
       "3077   22.0   120.09      16.0   9039.57\n",
       "3037   64.0   468.21      16.0  14669.87\n",
       "1045   84.0   597.27       3.0  33352.80\n",
       "2252  133.0   949.36       0.0  19036.43\n",
       "1630   80.0   543.50       3.0  16831.90"
      ]
     },
     "metadata": {},
     "output_type": "display_data"
    },
    {
     "name": "stdout",
     "output_type": "stream",
     "text": [
      "----------------target_test--------------------\n",
      "Размер выборки: 643\n"
     ]
    },
    {
     "data": {
      "text/plain": [
       "3077    0\n",
       "3037    0\n",
       "1045    1\n",
       "2252    1\n",
       "1630    0\n",
       "Name: is_ultra, dtype: int64"
      ]
     },
     "metadata": {},
     "output_type": "display_data"
    },
    {
     "name": "stdout",
     "output_type": "stream",
     "text": [
      "----------------features_valid--------------------\n",
      "<class 'pandas.core.frame.DataFrame'>\n",
      "Int64Index: 643 entries, 2798 to 1151\n",
      "Data columns (total 4 columns):\n",
      "calls       643 non-null float64\n",
      "minutes     643 non-null float64\n",
      "messages    643 non-null float64\n",
      "mb_used     643 non-null float64\n",
      "dtypes: float64(4)\n",
      "memory usage: 25.1 KB\n"
     ]
    },
    {
     "data": {
      "text/html": [
       "<div>\n",
       "<style scoped>\n",
       "    .dataframe tbody tr th:only-of-type {\n",
       "        vertical-align: middle;\n",
       "    }\n",
       "\n",
       "    .dataframe tbody tr th {\n",
       "        vertical-align: top;\n",
       "    }\n",
       "\n",
       "    .dataframe thead th {\n",
       "        text-align: right;\n",
       "    }\n",
       "</style>\n",
       "<table border=\"1\" class=\"dataframe\">\n",
       "  <thead>\n",
       "    <tr style=\"text-align: right;\">\n",
       "      <th></th>\n",
       "      <th>calls</th>\n",
       "      <th>minutes</th>\n",
       "      <th>messages</th>\n",
       "      <th>mb_used</th>\n",
       "    </tr>\n",
       "  </thead>\n",
       "  <tbody>\n",
       "    <tr>\n",
       "      <td>2798</td>\n",
       "      <td>71.0</td>\n",
       "      <td>485.12</td>\n",
       "      <td>46.0</td>\n",
       "      <td>16702.03</td>\n",
       "    </tr>\n",
       "    <tr>\n",
       "      <td>1635</td>\n",
       "      <td>68.0</td>\n",
       "      <td>464.62</td>\n",
       "      <td>6.0</td>\n",
       "      <td>5810.80</td>\n",
       "    </tr>\n",
       "    <tr>\n",
       "      <td>340</td>\n",
       "      <td>52.0</td>\n",
       "      <td>305.64</td>\n",
       "      <td>67.0</td>\n",
       "      <td>15329.36</td>\n",
       "    </tr>\n",
       "    <tr>\n",
       "      <td>2096</td>\n",
       "      <td>81.0</td>\n",
       "      <td>567.34</td>\n",
       "      <td>11.0</td>\n",
       "      <td>14121.36</td>\n",
       "    </tr>\n",
       "    <tr>\n",
       "      <td>1992</td>\n",
       "      <td>21.0</td>\n",
       "      <td>129.45</td>\n",
       "      <td>162.0</td>\n",
       "      <td>18021.07</td>\n",
       "    </tr>\n",
       "  </tbody>\n",
       "</table>\n",
       "</div>"
      ],
      "text/plain": [
       "      calls  minutes  messages   mb_used\n",
       "2798   71.0   485.12      46.0  16702.03\n",
       "1635   68.0   464.62       6.0   5810.80\n",
       "340    52.0   305.64      67.0  15329.36\n",
       "2096   81.0   567.34      11.0  14121.36\n",
       "1992   21.0   129.45     162.0  18021.07"
      ]
     },
     "metadata": {},
     "output_type": "display_data"
    },
    {
     "name": "stdout",
     "output_type": "stream",
     "text": [
      "----------------features_train--------------------\n",
      "<class 'pandas.core.frame.DataFrame'>\n",
      "Int64Index: 1928 entries, 2185 to 2906\n",
      "Data columns (total 4 columns):\n",
      "calls       1928 non-null float64\n",
      "minutes     1928 non-null float64\n",
      "messages    1928 non-null float64\n",
      "mb_used     1928 non-null float64\n",
      "dtypes: float64(4)\n",
      "memory usage: 75.3 KB\n"
     ]
    },
    {
     "data": {
      "text/html": [
       "<div>\n",
       "<style scoped>\n",
       "    .dataframe tbody tr th:only-of-type {\n",
       "        vertical-align: middle;\n",
       "    }\n",
       "\n",
       "    .dataframe tbody tr th {\n",
       "        vertical-align: top;\n",
       "    }\n",
       "\n",
       "    .dataframe thead th {\n",
       "        text-align: right;\n",
       "    }\n",
       "</style>\n",
       "<table border=\"1\" class=\"dataframe\">\n",
       "  <thead>\n",
       "    <tr style=\"text-align: right;\">\n",
       "      <th></th>\n",
       "      <th>calls</th>\n",
       "      <th>minutes</th>\n",
       "      <th>messages</th>\n",
       "      <th>mb_used</th>\n",
       "    </tr>\n",
       "  </thead>\n",
       "  <tbody>\n",
       "    <tr>\n",
       "      <td>2185</td>\n",
       "      <td>56.0</td>\n",
       "      <td>355.13</td>\n",
       "      <td>30.0</td>\n",
       "      <td>9192.92</td>\n",
       "    </tr>\n",
       "    <tr>\n",
       "      <td>1852</td>\n",
       "      <td>74.0</td>\n",
       "      <td>563.59</td>\n",
       "      <td>30.0</td>\n",
       "      <td>10781.76</td>\n",
       "    </tr>\n",
       "    <tr>\n",
       "      <td>1703</td>\n",
       "      <td>78.0</td>\n",
       "      <td>483.81</td>\n",
       "      <td>21.0</td>\n",
       "      <td>23076.65</td>\n",
       "    </tr>\n",
       "    <tr>\n",
       "      <td>2730</td>\n",
       "      <td>74.0</td>\n",
       "      <td>549.14</td>\n",
       "      <td>20.0</td>\n",
       "      <td>17160.61</td>\n",
       "    </tr>\n",
       "    <tr>\n",
       "      <td>1716</td>\n",
       "      <td>57.0</td>\n",
       "      <td>417.39</td>\n",
       "      <td>39.0</td>\n",
       "      <td>10604.94</td>\n",
       "    </tr>\n",
       "  </tbody>\n",
       "</table>\n",
       "</div>"
      ],
      "text/plain": [
       "      calls  minutes  messages   mb_used\n",
       "2185   56.0   355.13      30.0   9192.92\n",
       "1852   74.0   563.59      30.0  10781.76\n",
       "1703   78.0   483.81      21.0  23076.65\n",
       "2730   74.0   549.14      20.0  17160.61\n",
       "1716   57.0   417.39      39.0  10604.94"
      ]
     },
     "metadata": {},
     "output_type": "display_data"
    },
    {
     "name": "stdout",
     "output_type": "stream",
     "text": [
      "----------------target_valid--------------------\n",
      "Размер выборки: 643\n"
     ]
    },
    {
     "data": {
      "text/plain": [
       "2798    0\n",
       "1635    0\n",
       "340     0\n",
       "2096    1\n",
       "1992    1\n",
       "Name: is_ultra, dtype: int64"
      ]
     },
     "metadata": {},
     "output_type": "display_data"
    },
    {
     "name": "stdout",
     "output_type": "stream",
     "text": [
      "----------------target_train--------------------\n",
      "Размер выборки: 1928\n"
     ]
    },
    {
     "data": {
      "text/plain": [
       "2185    0\n",
       "1852    0\n",
       "1703    0\n",
       "2730    0\n",
       "1716    0\n",
       "Name: is_ultra, dtype: int64"
      ]
     },
     "metadata": {},
     "output_type": "display_data"
    },
    {
     "name": "stdout",
     "output_type": "stream",
     "text": [
      "Соотношение:\n",
      "--> тренировка 0.6\n",
      "--> валидация 0.2\n",
      "--> тест 0.2\n"
     ]
    }
   ],
   "source": [
    "tariffs_features = tariffs.drop(\"is_ultra\", axis = 1) \n",
    "tariffs_target =  tariffs [\"is_ultra\"]\n",
    "features_train, features_valid_test, target_train, target_valid_test = train_test_split(tariffs_features,\n",
    "                                                                                        tariffs_target, test_size = 0.4, random_state = 500)\n",
    "features_valid, features_test, target_valid, target_test = train_test_split(features_valid_test,\n",
    "                                                                                        target_valid_test, test_size = 0.5, random_state = 500)\n",
    "print('----------------features_test--------------------')\n",
    "features_test.info()\n",
    "display(features_test.head())\n",
    "\n",
    "print('----------------target_test--------------------')\n",
    "print(\"Размер выборки:\",target_test.shape[0])\n",
    "display(target_test.head())\n",
    "\n",
    "print('----------------features_valid--------------------')\n",
    "features_valid.info()\n",
    "display(features_valid.head())\n",
    "\n",
    "print('----------------features_train--------------------')\n",
    "features_train.info()\n",
    "display(features_train.head())\n",
    "\n",
    "print('----------------target_valid--------------------')\n",
    "print(\"Размер выборки:\",target_valid.shape[0])\n",
    "display(target_valid.head())\n",
    "\n",
    "print('----------------target_train--------------------')\n",
    "print(\"Размер выборки:\",target_train.shape[0])\n",
    "display(target_train.head())\n",
    "\n",
    "print('Соотношение:')\n",
    "print('--> тренировка', round(features_train.shape[0] / tariffs.shape[0], 2))\n",
    "print('--> валидация', round(features_valid.shape[0] / tariffs.shape[0], 2))\n",
    "print('--> тест', round(features_test.shape[0] / tariffs.shape[0], 2))\n"
   ]
  },
  {
   "cell_type": "markdown",
   "metadata": {},
   "source": [
    "Для разбиения датасета на тестовую, валидационную и обучающую выборки воспользуемся методом train_test_split, причем дважды. Объемы выборок соответствуют стандартоному соотношению 3:1:1. Перед началом разбиения выделим в отдельные переменные целевой признак и остальные признаки. "
   ]
  },
  {
   "cell_type": "code",
   "execution_count": 5,
   "metadata": {},
   "outputs": [
    {
     "name": "stdout",
     "output_type": "stream",
     "text": [
      "Соотношение:\n",
      "--> тренировка 0.6\n",
      "--> валидация 0.2\n",
      "--> тест 0.2\n"
     ]
    }
   ],
   "source": [
    "# КОД РЕВЬЮВЕРА\n",
    "\n",
    "print('Соотношение:')\n",
    "print('--> тренировка', round(features_train.shape[0] / tariffs.shape[0], 2))\n",
    "print('--> валидация', round(features_valid.shape[0] / tariffs.shape[0], 2))\n",
    "print('--> тест', round(features_test.shape[0] / tariffs.shape[0], 2))"
   ]
  },
  {
   "cell_type": "markdown",
   "metadata": {},
   "source": [
    "## 3. Исследуйте модели"
   ]
  },
  {
   "cell_type": "code",
   "execution_count": 6,
   "metadata": {},
   "outputs": [
    {
     "name": "stdout",
     "output_type": "stream",
     "text": [
      "Для дерева решений наилучшее значение accuracy 0.7822706065318819 достигается при значении max_depth = 5\n",
      "---------------------------------------------\n",
      "Для случайного леса наилучшее значение accuracy 0.7962674961119751 достигается при значении n_estimators = 8 и max_depth = 11\n",
      "---------------------------------------------\n",
      "Для логистической регрессии наилучшее значение accuracy 0.7045101088646968\n",
      "---------------------------------------------\n",
      "В итоге лучшая модель на основе алгоритма случайного леса\n"
     ]
    }
   ],
   "source": [
    "depth_tree = 0\n",
    "accuracy_tree = 0\n",
    "#def decision_tree(features, target):\n",
    "for depth in range(1,20):\n",
    "    model_1 = DecisionTreeClassifier(random_state = 12345, max_depth = depth)\n",
    "    model_1.fit(features_train, target_train)\n",
    "    prediction = model_1.predict(features_valid)\n",
    "    accuracy_1 = accuracy_score(target_valid, prediction)\n",
    "    if accuracy_1 > accuracy_tree:\n",
    "        depth_tree = depth\n",
    "        accuracy_tree = accuracy_1 \n",
    "print(\"Для дерева решений наилучшее значение accuracy\", accuracy_tree,'достигается при значении max_depth =', depth_tree)\n",
    "print(\"---------------------------------------------\")\n",
    "count_trees = 0\n",
    "accuracy_forest = 0\n",
    "for i in range(1,12):\n",
    "    for c in range(1,12):\n",
    "        model_2 = RandomForestClassifier(random_state = 12345, n_estimators = i, max_depth = c)\n",
    "        model_2.fit(features_train, target_train)\n",
    "        accuracy_2 = model_2.score(features_valid, target_valid)\n",
    "        if accuracy_2 > accuracy_forest:\n",
    "            accuracy_forest = accuracy_2\n",
    "            count_trees = i\n",
    "            depth_forest_tree = c\n",
    "print(\"Для случайного леса наилучшее значение accuracy\", accuracy_forest,'достигается при значении n_estimators =', count_trees, \n",
    "     'и max_depth =', depth_forest_tree)\n",
    "print(\"---------------------------------------------\")\n",
    "model_3 = LogisticRegression(random_state = 12345, solver = 'liblinear')\n",
    "model_3.fit(features_train, target_train)\n",
    "accuracy_logistic = model_3.score(features_valid, target_valid)\n",
    "print(\"Для логистической регрессии наилучшее значение accuracy\", accuracy_logistic)\n",
    "print(\"---------------------------------------------\")\n",
    "if accuracy_tree > accuracy_forest:\n",
    "    model_best = model_1\n",
    "    best_accuracy = accuracy_tree\n",
    "    print(\"В итоге лучшая модель на основе алгоритма дерева решений\")\n",
    "else:\n",
    "    model_best = model_2\n",
    "    best_accuracy = accuracy_forest\n",
    "    print(\"В итоге лучшая модель на основе алгоритма случайного леса\")\n",
    "if accuracy_logistic > best_accuracy:\n",
    "    model_best = model_3\n",
    "    print(\"В итоге лучшая модель на основе алгоритма логистической регрессии\")"
   ]
  },
  {
   "cell_type": "markdown",
   "metadata": {},
   "source": [
    "После изменения гиперпараметров (для дерева решений - максимальная глубина, для случайного леса - количестов оценщиков, для логистической регресии выбран 1 постоянный параметр 'solver' в целях избежания некритичных ошибок кода) определили наилучшие параметры для каждой модели обученной на тренировочной выборке. После перезагрузки кода программы значения метрик изменяются. Наибольшие результаты наблюдаются у моделей дерева решений и случайного леса, однако модель дерева решений чаще показывает максимальное значение accuracy.  "
   ]
  },
  {
   "cell_type": "markdown",
   "metadata": {},
   "source": [
    "## 4. Проверьте модель на тестовой выборке"
   ]
  },
  {
   "cell_type": "code",
   "execution_count": 7,
   "metadata": {},
   "outputs": [
    {
     "name": "stdout",
     "output_type": "stream",
     "text": [
      "Значение метрики для валидационной выборки 0.7962674961119751\n",
      "Значение метрики для тестовой выборки 0.7993779160186625 лучше порогового значения, просто огонь!!!\n",
      "0.7340590979782271\n",
      "0.7993779160186625\n",
      "0.7216174183514774\n"
     ]
    }
   ],
   "source": [
    "#model_best.fit(features_train, target_train)\n",
    "print(\"Значение метрики для валидационной выборки\", model_best.score(features_valid, target_valid))\n",
    "if model_best.score(features_test, target_test) >= 0.75:\n",
    "    print(\"Значение метрики для тестовой выборки\", model_best.score(features_test, target_test),\n",
    "          \"лучше порогового значения, просто огонь!!!\")\n",
    "else:\n",
    "    print(\"Значение метрики для тестовой выборки\", model_best.score(features_test, target_test),\n",
    "          \", результат не дотягивает( надо оптимизировать модель\")\n",
    "print(model_1.score(features_test, target_test))\n",
    "print(model_2.score(features_test, target_test))\n",
    "print(model_3.score(features_test, target_test))"
   ]
  },
  {
   "cell_type": "markdown",
   "metadata": {},
   "source": [
    "В целях оценки лучшей модели применим метод score() для тестовой выборки и в зависимости от его значения выведем соответствующее сообщение. При любом из выдавемых значений accuracy > 0.75. Также для сравнения выведем параметр accuracy при работе с валидационной выборкой."
   ]
  },
  {
   "cell_type": "markdown",
   "metadata": {},
   "source": [
    "## 5. (бонус) Проверьте модели на адекватность"
   ]
  },
  {
   "cell_type": "code",
   "execution_count": 8,
   "metadata": {},
   "outputs": [
    {
     "name": "stdout",
     "output_type": "stream",
     "text": [
      "0.7216393633089346 > 0.5, адекватности нашей модели не занимать.\n"
     ]
    }
   ],
   "source": [
    "print(roc_auc_score(target_test, model_best.predict(features_test)),'> 0.5, адекватности нашей модели не занимать.')"
   ]
  },
  {
   "cell_type": "code",
   "execution_count": 10,
   "metadata": {},
   "outputs": [
    {
     "name": "stdout",
     "output_type": "stream",
     "text": [
      "AUC forest_rev test 0.7957360288137562\n"
     ]
    },
    {
     "data": {
      "image/png": "[encoded data removed]",
      "text/plain": [
       "<Figure size 432x288 with 1 Axes>"
      ]
     },
     "metadata": {
      "needs_background": "light"
     },
     "output_type": "display_data"
    },
    {
     "name": "stdout",
     "output_type": "stream",
     "text": [
      "Гиперпараметры best_model RandomForestClassifier(bootstrap=True, class_weight=None, criterion='gini',\n",
      "                       max_depth=11, max_features='auto', max_leaf_nodes=None,\n",
      "                       min_impurity_decrease=0.0, min_impurity_split=None,\n",
      "                       min_samples_leaf=1, min_samples_split=2,\n",
      "                       min_weight_fraction_leaf=0.0, n_estimators=11,\n",
      "                       n_jobs=None, oob_score=False, random_state=12345,\n",
      "                       verbose=0, warm_start=False)\n"
     ]
    }
   ],
   "source": [
    "from sklearn.metrics import roc_auc_score\n",
    "from sklearn.metrics import roc_curve\n",
    "import matplotlib.pyplot as plt\n",
    "\n",
    "# сформируем предсказания на тесте (именно вероятность принадлежности к классу)\n",
    "prob = model_best.predict_proba(features_test)[:, 1]\n",
    "\n",
    "print('AUC forest_rev test', roc_auc_score(target_test, prob))\n",
    "\n",
    "fpr, tpr, thresholds = roc_curve(target_test, prob)\n",
    "\n",
    "plt.figure()\n",
    "plt.plot(fpr, tpr)\n",
    "plt.plot([0, 1], [0, 1], linestyle='--')\n",
    "plt.xlim([0.0, 1.0])\n",
    "plt.ylim([0.0, 1.0])\n",
    "plt.xlabel('False Positive Rate')\n",
    "plt.ylabel('True Positive Rate')\n",
    "plt.title('ROC-кривая')\n",
    "plt.show()\n",
    "\n",
    "print('Гиперпараметры best_model', model_best)"
   ]
  },
  {
   "cell_type": "markdown",
   "metadata": {},
   "source": [
    "В рассмотренном проекте происходила работа с данными сотового оператора. Для начала пришлось разобрать исходный датасет на выборки в соотношении 3:1:1 (обучающая, тестовая, валидационная) и проверить, действительно ли выборки получились такими по размеру. Далее для решения поставленной задачи осуществлялся выбор наилучшей модели в соответствии с применяемыми алгоритмати и гиперпараметрами. В итоге лучший результат показала модель случайного леса. Для тестовой выборки данная модель также оказалась наилучшей по показателю accuracy (0.8164852255054432), что лучше, чем пороговое значение 0.75. Также проведен тест на адекватность модели с помощью метода оценки значения AUC. В итоге данная вероятность оказалась выше, чем 0.5, соответственно модель для классификации тарифа применять эффективнее, нежели определять случайным равновероятным образом."
   ]
  },
  {
   "cell_type": "markdown",
   "metadata": {},
   "source": [
    "## Чек-лист готовности проекта"
   ]
  },
  {
   "cell_type": "markdown",
   "metadata": {},
   "source": [
    "Поставьте 'x' в выполненных пунктах. Далее нажмите Shift+Enter."
   ]
  },
  {
   "cell_type": "markdown",
   "metadata": {},
   "source": [
    "- [x] Jupyter Notebook открыт\n",
    "- [x] Весь код исполняется без ошибок\n",
    "- [x] Ячейки с кодом расположены в порядке исполнения\n",
    "- [x] Выполнено задание 1: данные загружены и изучены\n",
    "- [x] Выполнено задание 2: данные разбиты на три выборки\n",
    "- [x] Выполнено задание 3: проведено исследование моделей\n",
    "    - [x] Рассмотрено больше одной модели\n",
    "    - [x] Рассмотрено хотя бы 3 значения гипепараметров для какой-нибудь модели\n",
    "    - [x] Написаны выводы по результатам исследования\n",
    "- [x] Выполнено задание 4: Проведено тестирование\n",
    "- [x] Удалось достичь accuracy не меньше 0.75\n"
   ]
  }
 ],
 "metadata": {
  "kernelspec": {
   "display_name": "Python 3",
   "language": "python",
   "name": "python3"
  },
  "language_info": {
   "codemirror_mode": {
    "name": "ipython",
    "version": 3
   },
   "file_extension": ".py",
   "mimetype": "text/x-python",
   "name": "python",
   "nbconvert_exporter": "python",
   "pygments_lexer": "ipython3",
   "version": "3.8.3"
  },
  "toc": {
   "base_numbering": 1,
   "nav_menu": {},
   "number_sections": true,
   "sideBar": true,
   "skip_h1_title": false,
   "title_cell": "Table of Contents",
   "title_sidebar": "Contents",
   "toc_cell": false,
   "toc_position": {},
   "toc_section_display": true,
   "toc_window_display": false
  }
 },
 "nbformat": 4,
 "nbformat_minor": 2
}
